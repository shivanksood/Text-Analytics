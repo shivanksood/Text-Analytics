{
 "cells": [
  {
   "cell_type": "markdown",
   "metadata": {},
   "source": [
    "# Assignment 2\n",
    "\n",
    "Matthew Zlotnik\n",
    "\n",
    "Robbie Geoghehan\n",
    "\n",
    "Sebastian Osorio\n",
    "\n",
    "Shivank Sood\n",
    "\n",
    "Vikrant Vaidya"
   ]
  },
  {
   "cell_type": "markdown",
   "metadata": {},
   "source": [
    "### Task A"
   ]
  },
  {
   "cell_type": "code",
   "execution_count": 1,
   "metadata": {},
   "outputs": [],
   "source": [
    "#!pip install selenium\n",
    "# !apt-get -q update # to update ubuntu to correctly run apt install\n",
    "#!apt install -yq chromium-chromedriver\n",
    "#!cp /usr/lib/chromium-browser/chromedriver /usr/bin\n",
    "\n",
    "import sys\n",
    "import pandas as pd\n",
    "#sys.path.insert(0,'/usr/lib/chromium-browser/chromedriver') #Ubuntu - Colab\n",
    "sys.path.insert(0,'C:/Users/sebas/Downloads/chromedriver') #Windows - change user\n",
    "from selenium import webdriver\n",
    "from selenium.webdriver.common.by import By\n",
    "from selenium.webdriver.support.ui import WebDriverWait\n",
    "from selenium.webdriver.support import expected_conditions as EC\n",
    "import time\n",
    "import csv\n",
    "\n",
    "chrome_options = webdriver.ChromeOptions()\n",
    "chrome_options.add_argument('--headless')\n",
    "chrome_options.add_argument('--no-sandbox')\n",
    "chrome_options.add_argument('--disable-dev-shm-usage')"
   ]
  },
  {
   "cell_type": "code",
   "execution_count": 2,
   "metadata": {},
   "outputs": [],
   "source": [
    "## Chrome Headless - faster - no new chrome window - it's magic!:\n",
    "driver = webdriver.Chrome(executable_path='C:/Users/sebas/Downloads/chromedriver', options=chrome_options)\n",
    "\n",
    "## Regular Selenium - slower - can see what's happening, good for debugging:\n",
    "#driver = webdriver.Chrome(executable_path='C:/Users/sebas/Downloads/chromedriver')\n",
    "\n",
    "## Other options:\n",
    "#driver = webdriver.Chrome('chromedriver', options=chrome_options) #Colab\n",
    "#driver= webdriver.Chrome() #Windows + PATH"
   ]
  },
  {
   "cell_type": "code",
   "execution_count": 3,
   "metadata": {},
   "outputs": [],
   "source": [
    "df = pd.DataFrame(columns = ['product_name','product_review','user_rating']) "
   ]
  },
  {
   "cell_type": "code",
   "execution_count": 4,
   "metadata": {},
   "outputs": [],
   "source": [
    "# Reach url with top 250 beers\n",
    "driver.get('https://www.beeradvocate.com/beer/top-rated/')\n"
   ]
  },
  {
   "cell_type": "code",
   "execution_count": 5,
   "metadata": {},
   "outputs": [],
   "source": [
    "#Get top 250 beer links\n",
    "urls =[]\n",
    "a = driver.find_elements_by_xpath('//*[@id=\"ba-content\"]/table/tbody//td[2]/a')\n",
    "for x in a:\n",
    "    urls.append(x.get_attribute('href'))\n"
   ]
  },
  {
   "cell_type": "code",
   "execution_count": 6,
   "metadata": {
    "scrolled": true
   },
   "outputs": [],
   "source": [
    "## for testing with just a couple urls use this:\n",
    "# for url in urls[5:6]:\n",
    "\n",
    "## for FULL SCRAPING with ALL URLS use this:\n",
    "for url in urls:\n",
    "\n",
    "    driver.get(url)\n",
    "#    time.sleep(1) # Only use if in slow connection\n",
    "    reviews = driver.find_elements_by_xpath('//div[@id=\"rating_fullview\"]/div')\n",
    "    for review in reviews:\n",
    "\n",
    "        product_name = review.find_element_by_xpath('//h1').text.split('\\n')[0]\n",
    "        user_rating = review.text.split('/')[0]\n",
    "        \n",
    "## Use this for List:       \n",
    "        product_review= review.text.split('\\n\\n')[1:-2]\n",
    "        \n",
    "## Use this for raw text:       \n",
    "        \n",
    "#       product_review= review.text #Get ALL TEXT\n",
    "#       print (len(review.text.split('\\n\\n'))) # For debugging\n",
    "\n",
    "        df.loc[len(df)] = [product_name,product_review,user_rating]"
   ]
  },
  {
   "cell_type": "code",
   "execution_count": 7,
   "metadata": {
    "scrolled": true
   },
   "outputs": [
    {
     "data": {
      "text/html": [
       "<div>\n",
       "<style scoped>\n",
       "    .dataframe tbody tr th:only-of-type {\n",
       "        vertical-align: middle;\n",
       "    }\n",
       "\n",
       "    .dataframe tbody tr th {\n",
       "        vertical-align: top;\n",
       "    }\n",
       "\n",
       "    .dataframe thead th {\n",
       "        text-align: right;\n",
       "    }\n",
       "</style>\n",
       "<table border=\"1\" class=\"dataframe\">\n",
       "  <thead>\n",
       "    <tr style=\"text-align: right;\">\n",
       "      <th></th>\n",
       "      <th>product_name</th>\n",
       "      <th>product_review</th>\n",
       "      <th>user_rating</th>\n",
       "    </tr>\n",
       "  </thead>\n",
       "  <tbody>\n",
       "    <tr>\n",
       "      <td>0</td>\n",
       "      <td>Kentucky Brunch Brand Stout</td>\n",
       "      <td>[2016 Silver Wax. Aroma has whiskey, maple, to...</td>\n",
       "      <td>4.8</td>\n",
       "    </tr>\n",
       "    <tr>\n",
       "      <td>1</td>\n",
       "      <td>Kentucky Brunch Brand Stout</td>\n",
       "      <td>[The beer pours Pitch Black with a frothy tan ...</td>\n",
       "      <td>4.74</td>\n",
       "    </tr>\n",
       "    <tr>\n",
       "      <td>2</td>\n",
       "      <td>Kentucky Brunch Brand Stout</td>\n",
       "      <td>[Probably the smoothest beer I have ever had. ...</td>\n",
       "      <td>4.68</td>\n",
       "    </tr>\n",
       "    <tr>\n",
       "      <td>3</td>\n",
       "      <td>Kentucky Brunch Brand Stout</td>\n",
       "      <td>[Dark black, very thick, a little bit of tan h...</td>\n",
       "      <td>5</td>\n",
       "    </tr>\n",
       "    <tr>\n",
       "      <td>4</td>\n",
       "      <td>Kentucky Brunch Brand Stout</td>\n",
       "      <td>[Poured black as ink with thin ruby edges at 5...</td>\n",
       "      <td>4.97</td>\n",
       "    </tr>\n",
       "    <tr>\n",
       "      <td>...</td>\n",
       "      <td>...</td>\n",
       "      <td>...</td>\n",
       "      <td>...</td>\n",
       "    </tr>\n",
       "    <tr>\n",
       "      <td>6209</td>\n",
       "      <td>Sure Bet</td>\n",
       "      <td>[Love their beers, they play more on rhe malt ...</td>\n",
       "      <td>4.34</td>\n",
       "    </tr>\n",
       "    <tr>\n",
       "      <td>6210</td>\n",
       "      <td>Sure Bet</td>\n",
       "      <td>[A - Pours a bright opaque orange with a 1/4\" ...</td>\n",
       "      <td>4.46</td>\n",
       "    </tr>\n",
       "    <tr>\n",
       "      <td>6211</td>\n",
       "      <td>Sure Bet</td>\n",
       "      <td>[Appearance - The beer poured a murky orange-y...</td>\n",
       "      <td>4.54</td>\n",
       "    </tr>\n",
       "    <tr>\n",
       "      <td>6212</td>\n",
       "      <td>Sure Bet</td>\n",
       "      <td>[Hazy faded gold with a fluffy white head. Sme...</td>\n",
       "      <td>4.38</td>\n",
       "    </tr>\n",
       "    <tr>\n",
       "      <td>6213</td>\n",
       "      <td>Sure Bet</td>\n",
       "      <td>[Straw color with white head that dissipates q...</td>\n",
       "      <td>4.31</td>\n",
       "    </tr>\n",
       "  </tbody>\n",
       "</table>\n",
       "<p>6214 rows × 3 columns</p>\n",
       "</div>"
      ],
      "text/plain": [
       "                     product_name  \\\n",
       "0     Kentucky Brunch Brand Stout   \n",
       "1     Kentucky Brunch Brand Stout   \n",
       "2     Kentucky Brunch Brand Stout   \n",
       "3     Kentucky Brunch Brand Stout   \n",
       "4     Kentucky Brunch Brand Stout   \n",
       "...                           ...   \n",
       "6209                     Sure Bet   \n",
       "6210                     Sure Bet   \n",
       "6211                     Sure Bet   \n",
       "6212                     Sure Bet   \n",
       "6213                     Sure Bet   \n",
       "\n",
       "                                         product_review user_rating  \n",
       "0     [2016 Silver Wax. Aroma has whiskey, maple, to...         4.8  \n",
       "1     [The beer pours Pitch Black with a frothy tan ...        4.74  \n",
       "2     [Probably the smoothest beer I have ever had. ...        4.68  \n",
       "3     [Dark black, very thick, a little bit of tan h...           5  \n",
       "4     [Poured black as ink with thin ruby edges at 5...        4.97  \n",
       "...                                                 ...         ...  \n",
       "6209  [Love their beers, they play more on rhe malt ...        4.34  \n",
       "6210  [A - Pours a bright opaque orange with a 1/4\" ...        4.46  \n",
       "6211  [Appearance - The beer poured a murky orange-y...        4.54  \n",
       "6212  [Hazy faded gold with a fluffy white head. Sme...        4.38  \n",
       "6213  [Straw color with white head that dissipates q...        4.31  \n",
       "\n",
       "[6214 rows x 3 columns]"
      ]
     },
     "execution_count": 7,
     "metadata": {},
     "output_type": "execute_result"
    }
   ],
   "source": [
    "df"
   ]
  },
  {
   "cell_type": "code",
   "execution_count": 12,
   "metadata": {},
   "outputs": [],
   "source": [
    "## Only use if need to change product review from list to text\n",
    "df['product_review'] = df['product_review'].apply(lambda x: '.'.join(map(str, x)))"
   ]
  },
  {
   "cell_type": "code",
   "execution_count": 9,
   "metadata": {},
   "outputs": [],
   "source": [
    "#Use if in colab\n",
    "\n",
    "#from google.colab import drive\n",
    "#drive.mount('/content/gdrive')"
   ]
  },
  {
   "cell_type": "code",
   "execution_count": 13,
   "metadata": {
    "scrolled": true
   },
   "outputs": [],
   "source": [
    "##Only uncomment if want CSV output - careful, could overwrite.\n",
    "\n",
    "#df.to_csv(\"reviews_text.csv\")\n"
   ]
  },
  {
   "cell_type": "markdown",
   "metadata": {},
   "source": [
    "# Task B"
   ]
  },
  {
   "cell_type": "markdown",
   "metadata": {},
   "source": [
    "I'd like to use using Hoppy, Balanced and complex, but we should all agree on the 3 :)"
   ]
  }
 ],
 "metadata": {
  "kernelspec": {
   "display_name": "Python 3",
   "language": "python",
   "name": "python3"
  },
  "language_info": {
   "codemirror_mode": {
    "name": "ipython",
    "version": 3
   },
   "file_extension": ".py",
   "mimetype": "text/x-python",
   "name": "python",
   "nbconvert_exporter": "python",
   "pygments_lexer": "ipython3",
   "version": "3.7.3"
  }
 },
 "nbformat": 4,
 "nbformat_minor": 4
}
