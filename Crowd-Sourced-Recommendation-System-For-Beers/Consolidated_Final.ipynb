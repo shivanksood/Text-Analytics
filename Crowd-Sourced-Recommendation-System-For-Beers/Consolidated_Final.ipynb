{
 "cells": [
  {
   "cell_type": "markdown",
   "metadata": {},
   "source": [
    "# Assignment 2\n",
    "\n",
    "Matthew Zlotnik\n",
    "\n",
    "Robbie Geoghehan\n",
    "\n",
    "Sebastian Osorio\n",
    "\n",
    "Shivank Sood\n",
    "\n",
    "Vikrant Vaidya"
   ]
  },
  {
   "cell_type": "markdown",
   "metadata": {},
   "source": [
    "### Task A"
   ]
  },
  {
   "cell_type": "code",
   "execution_count": 1,
   "metadata": {},
   "outputs": [],
   "source": [
    "#!pip install selenium\n",
    "# !apt-get -q update # to update ubuntu to correctly run apt install\n",
    "#!apt install -yq chromium-chromedriver\n",
    "#!cp /usr/lib/chromium-browser/chromedriver /usr/bin\n",
    "\n",
    "import sys\n",
    "import pandas as pd\n",
    "#sys.path.insert(0,'/usr/lib/chromium-browser/chromedriver') #Ubuntu - Colab\n",
    "sys.path.insert(0,'C:/Users/sebas/Downloads/chromedriver') #Windows - change user\n",
    "from selenium import webdriver\n",
    "from selenium.webdriver.common.by import By\n",
    "from selenium.webdriver.support.ui import WebDriverWait\n",
    "from selenium.webdriver.support import expected_conditions as EC\n",
    "import time\n",
    "import csv\n",
    "\n",
    "chrome_options = webdriver.ChromeOptions()\n",
    "chrome_options.add_argument('--headless')\n",
    "chrome_options.add_argument('--no-sandbox')\n",
    "chrome_options.add_argument('--disable-dev-shm-usage')"
   ]
  },
  {
   "cell_type": "code",
   "execution_count": 2,
   "metadata": {},
   "outputs": [],
   "source": [
    "## Chrome Headless - faster - no new chrome window - it's magic!:\n",
    "driver = webdriver.Chrome(executable_path='C:/Users/sebas/Downloads/chromedriver', options=chrome_options)\n",
    "\n",
    "## Regular Selenium - slower - can see what's happening, good for debugging:\n",
    "#driver = webdriver.Chrome(executable_path='C:/Users/sebas/Downloads/chromedriver')\n",
    "\n",
    "## Other options:\n",
    "#driver = webdriver.Chrome('chromedriver', options=chrome_options) #Colab\n",
    "#driver= webdriver.Chrome() #Windows + PATH"
   ]
  },
  {
   "cell_type": "code",
   "execution_count": 3,
   "metadata": {},
   "outputs": [],
   "source": [
    "df = pd.DataFrame(columns = ['product_name','product_review','user_rating']) "
   ]
  },
  {
   "cell_type": "code",
   "execution_count": 4,
   "metadata": {},
   "outputs": [],
   "source": [
    "# Reach url with top 250 beers\n",
    "driver.get('https://www.beeradvocate.com/beer/top-rated/')\n"
   ]
  },
  {
   "cell_type": "code",
   "execution_count": 5,
   "metadata": {},
   "outputs": [],
   "source": [
    "#Get top 250 beer links\n",
    "urls =[]\n",
    "a = driver.find_elements_by_xpath('//*[@id=\"ba-content\"]/table/tbody//td[2]/a')\n",
    "for x in a:\n",
    "    urls.append(x.get_attribute('href'))\n"
   ]
  },
  {
   "cell_type": "code",
   "execution_count": 6,
   "metadata": {
    "scrolled": true
   },
   "outputs": [],
   "source": [
    "## for testing with just a couple urls use this:\n",
    "# for url in urls[5:6]:\n",
    "\n",
    "## for FULL SCRAPING with ALL URLS use this:\n",
    "for url in urls:\n",
    "\n",
    "    driver.get(url)\n",
    "#    time.sleep(1) # Only use if in slow connection\n",
    "    reviews = driver.find_elements_by_xpath('//div[@id=\"rating_fullview\"]/div')\n",
    "    for review in reviews:\n",
    "\n",
    "        product_name = review.find_element_by_xpath('//h1').text.split('\\n')[0]\n",
    "        user_rating = review.text.split('/')[0]\n",
    "        \n",
    "## Use this for List:       \n",
    "        product_review= review.text.split('\\n\\n')[1:-2]\n",
    "        \n",
    "## Use this for raw text:       \n",
    "        \n",
    "#       product_review= review.text #Get ALL TEXT\n",
    "#       print (len(review.text.split('\\n\\n'))) # For debugging\n",
    "\n",
    "        df.loc[len(df)] = [product_name,product_review,user_rating]"
   ]
  },
  {
   "cell_type": "code",
   "execution_count": 7,
   "metadata": {
    "scrolled": true
   },
   "outputs": [
    {
     "data": {
      "text/html": [
       "<div>\n",
       "<style scoped>\n",
       "    .dataframe tbody tr th:only-of-type {\n",
       "        vertical-align: middle;\n",
       "    }\n",
       "\n",
       "    .dataframe tbody tr th {\n",
       "        vertical-align: top;\n",
       "    }\n",
       "\n",
       "    .dataframe thead th {\n",
       "        text-align: right;\n",
       "    }\n",
       "</style>\n",
       "<table border=\"1\" class=\"dataframe\">\n",
       "  <thead>\n",
       "    <tr style=\"text-align: right;\">\n",
       "      <th></th>\n",
       "      <th>product_name</th>\n",
       "      <th>product_review</th>\n",
       "      <th>user_rating</th>\n",
       "    </tr>\n",
       "  </thead>\n",
       "  <tbody>\n",
       "    <tr>\n",
       "      <td>0</td>\n",
       "      <td>Kentucky Brunch Brand Stout</td>\n",
       "      <td>[2016 Silver Wax. Aroma has whiskey, maple, to...</td>\n",
       "      <td>4.8</td>\n",
       "    </tr>\n",
       "    <tr>\n",
       "      <td>1</td>\n",
       "      <td>Kentucky Brunch Brand Stout</td>\n",
       "      <td>[The beer pours Pitch Black with a frothy tan ...</td>\n",
       "      <td>4.74</td>\n",
       "    </tr>\n",
       "    <tr>\n",
       "      <td>2</td>\n",
       "      <td>Kentucky Brunch Brand Stout</td>\n",
       "      <td>[Probably the smoothest beer I have ever had. ...</td>\n",
       "      <td>4.68</td>\n",
       "    </tr>\n",
       "    <tr>\n",
       "      <td>3</td>\n",
       "      <td>Kentucky Brunch Brand Stout</td>\n",
       "      <td>[Dark black, very thick, a little bit of tan h...</td>\n",
       "      <td>5</td>\n",
       "    </tr>\n",
       "    <tr>\n",
       "      <td>4</td>\n",
       "      <td>Kentucky Brunch Brand Stout</td>\n",
       "      <td>[Poured black as ink with thin ruby edges at 5...</td>\n",
       "      <td>4.97</td>\n",
       "    </tr>\n",
       "    <tr>\n",
       "      <td>...</td>\n",
       "      <td>...</td>\n",
       "      <td>...</td>\n",
       "      <td>...</td>\n",
       "    </tr>\n",
       "    <tr>\n",
       "      <td>6209</td>\n",
       "      <td>Sure Bet</td>\n",
       "      <td>[Love their beers, they play more on rhe malt ...</td>\n",
       "      <td>4.34</td>\n",
       "    </tr>\n",
       "    <tr>\n",
       "      <td>6210</td>\n",
       "      <td>Sure Bet</td>\n",
       "      <td>[A - Pours a bright opaque orange with a 1/4\" ...</td>\n",
       "      <td>4.46</td>\n",
       "    </tr>\n",
       "    <tr>\n",
       "      <td>6211</td>\n",
       "      <td>Sure Bet</td>\n",
       "      <td>[Appearance - The beer poured a murky orange-y...</td>\n",
       "      <td>4.54</td>\n",
       "    </tr>\n",
       "    <tr>\n",
       "      <td>6212</td>\n",
       "      <td>Sure Bet</td>\n",
       "      <td>[Hazy faded gold with a fluffy white head. Sme...</td>\n",
       "      <td>4.38</td>\n",
       "    </tr>\n",
       "    <tr>\n",
       "      <td>6213</td>\n",
       "      <td>Sure Bet</td>\n",
       "      <td>[Straw color with white head that dissipates q...</td>\n",
       "      <td>4.31</td>\n",
       "    </tr>\n",
       "  </tbody>\n",
       "</table>\n",
       "<p>6214 rows × 3 columns</p>\n",
       "</div>"
      ],
      "text/plain": [
       "                     product_name  \\\n",
       "0     Kentucky Brunch Brand Stout   \n",
       "1     Kentucky Brunch Brand Stout   \n",
       "2     Kentucky Brunch Brand Stout   \n",
       "3     Kentucky Brunch Brand Stout   \n",
       "4     Kentucky Brunch Brand Stout   \n",
       "...                           ...   \n",
       "6209                     Sure Bet   \n",
       "6210                     Sure Bet   \n",
       "6211                     Sure Bet   \n",
       "6212                     Sure Bet   \n",
       "6213                     Sure Bet   \n",
       "\n",
       "                                         product_review user_rating  \n",
       "0     [2016 Silver Wax. Aroma has whiskey, maple, to...         4.8  \n",
       "1     [The beer pours Pitch Black with a frothy tan ...        4.74  \n",
       "2     [Probably the smoothest beer I have ever had. ...        4.68  \n",
       "3     [Dark black, very thick, a little bit of tan h...           5  \n",
       "4     [Poured black as ink with thin ruby edges at 5...        4.97  \n",
       "...                                                 ...         ...  \n",
       "6209  [Love their beers, they play more on rhe malt ...        4.34  \n",
       "6210  [A - Pours a bright opaque orange with a 1/4\" ...        4.46  \n",
       "6211  [Appearance - The beer poured a murky orange-y...        4.54  \n",
       "6212  [Hazy faded gold with a fluffy white head. Sme...        4.38  \n",
       "6213  [Straw color with white head that dissipates q...        4.31  \n",
       "\n",
       "[6214 rows x 3 columns]"
      ]
     },
     "execution_count": 7,
     "metadata": {},
     "output_type": "execute_result"
    }
   ],
   "source": [
    "df"
   ]
  },
  {
   "cell_type": "code",
   "execution_count": 12,
   "metadata": {},
   "outputs": [],
   "source": [
    "## Only use if need to change product review from list to text\n",
    "df['product_review'] = df['product_review'].apply(lambda x: '.'.join(map(str, x)))"
   ]
  },
  {
   "cell_type": "code",
   "execution_count": 9,
   "metadata": {},
   "outputs": [],
   "source": [
    "#Use if in colab\n",
    "\n",
    "#from google.colab import drive\n",
    "#drive.mount('/content/gdrive')"
   ]
  },
  {
   "cell_type": "code",
   "execution_count": 13,
   "metadata": {
    "scrolled": true
   },
   "outputs": [],
   "source": [
    "##Only uncomment if want CSV output - careful, could overwrite.\n",
    "\n",
    "#df.to_csv(\"reviews_text.csv\")\n"
   ]
  },
  {
   "cell_type": "markdown",
   "metadata": {},
   "source": []
  },
  {
   "cell_type": "markdown",
   "metadata": {},
   "source": []
  },
  {
   "cell_type": "code",
   "execution_count": null,
   "metadata": {},
   "outputs": [],
   "source": []
  },
  {
   "cell_type": "markdown",
   "metadata": {},
   "source": []
  },
  {
   "cell_type": "code",
   "execution_count": 1,
   "metadata": {},
   "outputs": [
    {
     "name": "stdout",
     "output_type": "stream",
     "text": [
      "Collecting vaderSentiment\n",
      "  Downloading https://files.pythonhosted.org/packages/86/9e/c53e1fc61aac5ee490a6ac5e21b1ac04e55a7c2aba647bb8411c9aadf24e/vaderSentiment-3.2.1-py2.py3-none-any.whl (125kB)\n",
      "Installing collected packages: vaderSentiment\n",
      "Successfully installed vaderSentiment-3.2.1\n"
     ]
    }
   ],
   "source": [
    "# Library Imports\n",
    "import spacy\n",
    "import en_core_web_lg\n",
    "import pandas as pd\n",
    "import nltk\n",
    "from nltk.corpus import stopwords\n",
    "from string import punctuation\n",
    "from nltk.tokenize import sent_tokenize, word_tokenize\n",
    "from nltk.stem import WordNetLemmatizer\n",
    "nlp = en_core_web_lg.load() #just import once or will take some time\n",
    "!pip install vaderSentiment\n",
    "from vaderSentiment.vaderSentiment import SentimentIntensityAnalyzer\n",
    "analyser = SentimentIntensityAnalyzer()"
   ]
  },
  {
   "cell_type": "markdown",
   "metadata": {},
   "source": [
    "## PART B"
   ]
  },
  {
   "cell_type": "code",
   "execution_count": 2,
   "metadata": {},
   "outputs": [
    {
     "data": {
      "text/html": [
       "<div>\n",
       "<style scoped>\n",
       "    .dataframe tbody tr th:only-of-type {\n",
       "        vertical-align: middle;\n",
       "    }\n",
       "\n",
       "    .dataframe tbody tr th {\n",
       "        vertical-align: top;\n",
       "    }\n",
       "\n",
       "    .dataframe thead th {\n",
       "        text-align: right;\n",
       "    }\n",
       "</style>\n",
       "<table border=\"1\" class=\"dataframe\">\n",
       "  <thead>\n",
       "    <tr style=\"text-align: right;\">\n",
       "      <th></th>\n",
       "      <th>product_name</th>\n",
       "      <th>product_review</th>\n",
       "      <th>user_rating</th>\n",
       "    </tr>\n",
       "  </thead>\n",
       "  <tbody>\n",
       "    <tr>\n",
       "      <td>0</td>\n",
       "      <td>Kentucky Brunch Brand Stout</td>\n",
       "      <td>2016 Silver Wax. Aroma has whiskey, maple, tof...</td>\n",
       "      <td>4.80</td>\n",
       "    </tr>\n",
       "    <tr>\n",
       "      <td>1</td>\n",
       "      <td>Kentucky Brunch Brand Stout</td>\n",
       "      <td>The beer pours Pitch Black with a frothy tan h...</td>\n",
       "      <td>4.74</td>\n",
       "    </tr>\n",
       "    <tr>\n",
       "      <td>2</td>\n",
       "      <td>Kentucky Brunch Brand Stout</td>\n",
       "      <td>Probably the smoothest beer I have ever had. S...</td>\n",
       "      <td>4.68</td>\n",
       "    </tr>\n",
       "    <tr>\n",
       "      <td>3</td>\n",
       "      <td>Kentucky Brunch Brand Stout</td>\n",
       "      <td>Dark black, very thick, a little bit of tan he...</td>\n",
       "      <td>5.00</td>\n",
       "    </tr>\n",
       "    <tr>\n",
       "      <td>4</td>\n",
       "      <td>Kentucky Brunch Brand Stout</td>\n",
       "      <td>Poured black as ink with thin ruby edges at 58...</td>\n",
       "      <td>4.97</td>\n",
       "    </tr>\n",
       "  </tbody>\n",
       "</table>\n",
       "</div>"
      ],
      "text/plain": [
       "                  product_name  \\\n",
       "0  Kentucky Brunch Brand Stout   \n",
       "1  Kentucky Brunch Brand Stout   \n",
       "2  Kentucky Brunch Brand Stout   \n",
       "3  Kentucky Brunch Brand Stout   \n",
       "4  Kentucky Brunch Brand Stout   \n",
       "\n",
       "                                      product_review  user_rating  \n",
       "0  2016 Silver Wax. Aroma has whiskey, maple, tof...         4.80  \n",
       "1  The beer pours Pitch Black with a frothy tan h...         4.74  \n",
       "2  Probably the smoothest beer I have ever had. S...         4.68  \n",
       "3  Dark black, very thick, a little bit of tan he...         5.00  \n",
       "4  Poured black as ink with thin ruby edges at 58...         4.97  "
      ]
     },
     "execution_count": 2,
     "metadata": {},
     "output_type": "execute_result"
    }
   ],
   "source": [
    "raw = pd.read_csv(\"https://raw.githubusercontent.com/coldonline/TextAnalytics/master/HW2/reviews_text.csv\")\n",
    "raw.drop(['Unnamed: 0'], axis=1,inplace=True)\n",
    "raw.to_csv(\"raw_scrape.csv\")\n",
    "raw.head()"
   ]
  },
  {
   "cell_type": "code",
   "execution_count": 3,
   "metadata": {},
   "outputs": [],
   "source": [
    "# DATA CLEANSING FUNCTIONS\n",
    "\n",
    "def remove_space(s):\n",
    "    return s.replace(\"\\n\",\" \")\n",
    "\n",
    "def removepunc(item):\n",
    "    for p in punctuation:\n",
    "        item = item.lstrip().replace(p,'')\n",
    "    return item\n",
    "\n",
    "def lowerize(x):\n",
    "    return x.lower()\n",
    "\n",
    "stop_words = set(stopwords.words('english'))\n",
    "\n",
    "def remove_stopwords(s):\n",
    "    return [w for w in s if not w in stop_words] \n",
    "\n",
    "def lematize(l):\n",
    "    s=[]\n",
    "    for i in l:\n",
    "        s.append(wordnet_lemmatizer.lemmatize(i))\n",
    "    return s"
   ]
  },
  {
   "cell_type": "code",
   "execution_count": 21,
   "metadata": {},
   "outputs": [
    {
     "name": "stdout",
     "output_type": "stream",
     "text": [
      "(6214, 3)\n",
      "(6214, 3)\n"
     ]
    },
    {
     "data": {
      "text/html": [
       "<div>\n",
       "<style scoped>\n",
       "    .dataframe tbody tr th:only-of-type {\n",
       "        vertical-align: middle;\n",
       "    }\n",
       "\n",
       "    .dataframe tbody tr th {\n",
       "        vertical-align: top;\n",
       "    }\n",
       "\n",
       "    .dataframe thead th {\n",
       "        text-align: right;\n",
       "    }\n",
       "</style>\n",
       "<table border=\"1\" class=\"dataframe\">\n",
       "  <thead>\n",
       "    <tr style=\"text-align: right;\">\n",
       "      <th></th>\n",
       "      <th>product_name</th>\n",
       "      <th>product_review</th>\n",
       "      <th>user_rating</th>\n",
       "      <th>review_words</th>\n",
       "    </tr>\n",
       "  </thead>\n",
       "  <tbody>\n",
       "    <tr>\n",
       "      <td>0</td>\n",
       "      <td>Kentucky Brunch Brand Stout</td>\n",
       "      <td>2016 silver wax aroma has whiskey maple toffee...</td>\n",
       "      <td>4.80</td>\n",
       "      <td>[2016, whiskey, coffee, fruit, barrel, umami, ...</td>\n",
       "    </tr>\n",
       "    <tr>\n",
       "      <td>1</td>\n",
       "      <td>Kentucky Brunch Brand Stout</td>\n",
       "      <td>the beer pours pitch black with a frothy tan h...</td>\n",
       "      <td>4.74</td>\n",
       "      <td>[coffee, frothy, vanilla, bottle, creams, slic...</td>\n",
       "    </tr>\n",
       "    <tr>\n",
       "      <td>2</td>\n",
       "      <td>Kentucky Brunch Brand Stout</td>\n",
       "      <td>probably the smoothest beer i have ever had sm...</td>\n",
       "      <td>4.68</td>\n",
       "      <td>[overall, probably, lacking, barrel, excellent...</td>\n",
       "    </tr>\n",
       "    <tr>\n",
       "      <td>3</td>\n",
       "      <td>Kentucky Brunch Brand Stout</td>\n",
       "      <td>dark black very thick a little bit of tan head...</td>\n",
       "      <td>5.00</td>\n",
       "      <td>[best, coffee, fruit, letdown, probably, end, ...</td>\n",
       "    </tr>\n",
       "    <tr>\n",
       "      <td>4</td>\n",
       "      <td>Kentucky Brunch Brand Stout</td>\n",
       "      <td>poured black as ink with thin ruby edges at 58...</td>\n",
       "      <td>4.97</td>\n",
       "      <td>[12, superb, legs, fizzy, roast, feel, warming...</td>\n",
       "    </tr>\n",
       "  </tbody>\n",
       "</table>\n",
       "</div>"
      ],
      "text/plain": [
       "                  product_name  \\\n",
       "0  Kentucky Brunch Brand Stout   \n",
       "1  Kentucky Brunch Brand Stout   \n",
       "2  Kentucky Brunch Brand Stout   \n",
       "3  Kentucky Brunch Brand Stout   \n",
       "4  Kentucky Brunch Brand Stout   \n",
       "\n",
       "                                      product_review  user_rating  \\\n",
       "0  2016 silver wax aroma has whiskey maple toffee...         4.80   \n",
       "1  the beer pours pitch black with a frothy tan h...         4.74   \n",
       "2  probably the smoothest beer i have ever had sm...         4.68   \n",
       "3  dark black very thick a little bit of tan head...         5.00   \n",
       "4  poured black as ink with thin ruby edges at 58...         4.97   \n",
       "\n",
       "                                        review_words  \n",
       "0  [2016, whiskey, coffee, fruit, barrel, umami, ...  \n",
       "1  [coffee, frothy, vanilla, bottle, creams, slic...  \n",
       "2  [overall, probably, lacking, barrel, excellent...  \n",
       "3  [best, coffee, fruit, letdown, probably, end, ...  \n",
       "4  [12, superb, legs, fizzy, roast, feel, warming...  "
      ]
     },
     "execution_count": 21,
     "metadata": {},
     "output_type": "execute_result"
    }
   ],
   "source": [
    "df = raw.copy()\n",
    "print(df.shape)\n",
    "\n",
    "df = df.dropna()\n",
    "print(df.shape) #finding if there is any major loss due to this\n",
    "\n",
    "#Cleaning reviews for calculating word freq\n",
    "df['product_review'] = df['product_review'].apply(remove_space).apply(removepunc).apply(lowerize) \n",
    "wordnet_lemmatizer = WordNetLemmatizer()\n",
    "df['review_words'] = df['product_review'].str.split().apply(set).apply(list).apply(remove_stopwords)\n",
    "df.head()"
   ]
  },
  {
   "cell_type": "code",
   "execution_count": 5,
   "metadata": {},
   "outputs": [],
   "source": [
    "word_bag = []\n",
    "for i in range(df.shape[0]):\n",
    "    word_bag += df['review_words'][i]\n",
    "\n",
    "#word_bag\n",
    "\n",
    "word_freq = nltk.FreqDist(word_bag)"
   ]
  },
  {
   "cell_type": "code",
   "execution_count": 6,
   "metadata": {},
   "outputs": [
    {
     "data": {
      "text/plain": [
       "23894"
      ]
     },
     "execution_count": 6,
     "metadata": {},
     "output_type": "execute_result"
    }
   ],
   "source": [
    "len(word_freq) # number of words"
   ]
  },
  {
   "cell_type": "code",
   "execution_count": 8,
   "metadata": {},
   "outputs": [],
   "source": [
    "rslt = pd.DataFrame(word_freq.most_common(22337),              \n",
    "                    columns=['Word', 'Frequency'])\n",
    "rslt.head()\n",
    "rslt.to_csv(\"beer_review_wordcount.csv\")\n",
    "#some words like 'balanced', 'crisp' , 'robust' seem to be mixing with other words in the file, but that doesn't bother us \n",
    "#since we care only about existence than perfect counts"
   ]
  },
  {
   "cell_type": "markdown",
   "metadata": {},
   "source": [
    "# PART C"
   ]
  },
  {
   "cell_type": "code",
   "execution_count": 22,
   "metadata": {},
   "outputs": [],
   "source": [
    "# CHOOSING WORDS 'balanced' , 'crisp' , 'robust' they seem pretty prevelant in the data\n",
    "\n",
    "#spacy implementation\n",
    "\n",
    "\n",
    "def process_text(text):\n",
    "    doc = nlp(text.lower())\n",
    "    result = []\n",
    "    for token in doc:\n",
    "        if token.text in nlp.Defaults.stop_words:\n",
    "            continue\n",
    "        if token.is_punct:\n",
    "            continue\n",
    "#         if token.lemma_ == '-PRON-'\n",
    "#             continue\n",
    "        result.append(token.lemma_)\n",
    "    return \" \".join(result)\n",
    "\n",
    "def calculate_similarity(text1, text2):\n",
    "    base = nlp(process_text(text1))\n",
    "    compare = nlp(process_text(text2))\n",
    "    return base.similarity(compare)\n"
   ]
  },
  {
   "cell_type": "code",
   "execution_count": 23,
   "metadata": {},
   "outputs": [
    {
     "data": {
      "text/html": [
       "<div>\n",
       "<style scoped>\n",
       "    .dataframe tbody tr th:only-of-type {\n",
       "        vertical-align: middle;\n",
       "    }\n",
       "\n",
       "    .dataframe tbody tr th {\n",
       "        vertical-align: top;\n",
       "    }\n",
       "\n",
       "    .dataframe thead th {\n",
       "        text-align: right;\n",
       "    }\n",
       "</style>\n",
       "<table border=\"1\" class=\"dataframe\">\n",
       "  <thead>\n",
       "    <tr style=\"text-align: right;\">\n",
       "      <th></th>\n",
       "      <th>product_name</th>\n",
       "      <th>product_review</th>\n",
       "      <th>user_rating</th>\n",
       "      <th>review_words</th>\n",
       "      <th>similarity_score</th>\n",
       "    </tr>\n",
       "  </thead>\n",
       "  <tbody>\n",
       "    <tr>\n",
       "      <td>0</td>\n",
       "      <td>Kentucky Brunch Brand Stout</td>\n",
       "      <td>2016 silver wax aroma has whiskey maple toffee...</td>\n",
       "      <td>4.80</td>\n",
       "      <td>[2016, whiskey, coffee, fruit, barrel, umami, ...</td>\n",
       "      <td>0.532586</td>\n",
       "    </tr>\n",
       "    <tr>\n",
       "      <td>1</td>\n",
       "      <td>Kentucky Brunch Brand Stout</td>\n",
       "      <td>the beer pours pitch black with a frothy tan h...</td>\n",
       "      <td>4.74</td>\n",
       "      <td>[coffee, frothy, vanilla, bottle, creams, slic...</td>\n",
       "      <td>0.578409</td>\n",
       "    </tr>\n",
       "    <tr>\n",
       "      <td>2</td>\n",
       "      <td>Kentucky Brunch Brand Stout</td>\n",
       "      <td>probably the smoothest beer i have ever had sm...</td>\n",
       "      <td>4.68</td>\n",
       "      <td>[overall, probably, lacking, barrel, excellent...</td>\n",
       "      <td>0.634664</td>\n",
       "    </tr>\n",
       "    <tr>\n",
       "      <td>3</td>\n",
       "      <td>Kentucky Brunch Brand Stout</td>\n",
       "      <td>dark black very thick a little bit of tan head...</td>\n",
       "      <td>5.00</td>\n",
       "      <td>[best, coffee, fruit, letdown, probably, end, ...</td>\n",
       "      <td>0.592787</td>\n",
       "    </tr>\n",
       "    <tr>\n",
       "      <td>4</td>\n",
       "      <td>Kentucky Brunch Brand Stout</td>\n",
       "      <td>poured black as ink with thin ruby edges at 58...</td>\n",
       "      <td>4.97</td>\n",
       "      <td>[12, superb, legs, fizzy, roast, feel, warming...</td>\n",
       "      <td>0.648406</td>\n",
       "    </tr>\n",
       "  </tbody>\n",
       "</table>\n",
       "</div>"
      ],
      "text/plain": [
       "                  product_name  \\\n",
       "0  Kentucky Brunch Brand Stout   \n",
       "1  Kentucky Brunch Brand Stout   \n",
       "2  Kentucky Brunch Brand Stout   \n",
       "3  Kentucky Brunch Brand Stout   \n",
       "4  Kentucky Brunch Brand Stout   \n",
       "\n",
       "                                      product_review  user_rating  \\\n",
       "0  2016 silver wax aroma has whiskey maple toffee...         4.80   \n",
       "1  the beer pours pitch black with a frothy tan h...         4.74   \n",
       "2  probably the smoothest beer i have ever had sm...         4.68   \n",
       "3  dark black very thick a little bit of tan head...         5.00   \n",
       "4  poured black as ink with thin ruby edges at 58...         4.97   \n",
       "\n",
       "                                        review_words  similarity_score  \n",
       "0  [2016, whiskey, coffee, fruit, barrel, umami, ...          0.532586  \n",
       "1  [coffee, frothy, vanilla, bottle, creams, slic...          0.578409  \n",
       "2  [overall, probably, lacking, barrel, excellent...          0.634664  \n",
       "3  [best, coffee, fruit, letdown, probably, end, ...          0.592787  \n",
       "4  [12, superb, legs, fizzy, roast, feel, warming...          0.648406  "
      ]
     },
     "execution_count": 23,
     "metadata": {},
     "output_type": "execute_result"
    }
   ],
   "source": [
    "# Not the cleanest piece of code, but can clean similarity calculation with above function later\n",
    "# This chunk might take some time\n",
    "df['similarity_score'] = 0\n",
    "\n",
    "for i in range(df.shape[0]):\n",
    "    df.loc[i,'similarity_score'] = nlp(process_text(df.product_review[i])).similarity(nlp(\"crisp balanced robust\"))\n",
    "df.head()"
   ]
  },
  {
   "cell_type": "code",
   "execution_count": 24,
   "metadata": {},
   "outputs": [],
   "source": [
    "df.drop(['review_words'], axis=1, inplace=True)"
   ]
  },
  {
   "cell_type": "code",
   "execution_count": 25,
   "metadata": {},
   "outputs": [],
   "source": [
    "df.to_csv('output_partC.csv')"
   ]
  },
  {
   "cell_type": "markdown",
   "metadata": {},
   "source": [
    "## PART D"
   ]
  },
  {
   "cell_type": "code",
   "execution_count": 26,
   "metadata": {},
   "outputs": [
    {
     "data": {
      "text/html": [
       "<div>\n",
       "<style scoped>\n",
       "    .dataframe tbody tr th:only-of-type {\n",
       "        vertical-align: middle;\n",
       "    }\n",
       "\n",
       "    .dataframe tbody tr th {\n",
       "        vertical-align: top;\n",
       "    }\n",
       "\n",
       "    .dataframe thead th {\n",
       "        text-align: right;\n",
       "    }\n",
       "</style>\n",
       "<table border=\"1\" class=\"dataframe\">\n",
       "  <thead>\n",
       "    <tr style=\"text-align: right;\">\n",
       "      <th></th>\n",
       "      <th>product_name</th>\n",
       "      <th>product_review</th>\n",
       "      <th>similarity_score</th>\n",
       "    </tr>\n",
       "  </thead>\n",
       "  <tbody>\n",
       "    <tr>\n",
       "      <td>0</td>\n",
       "      <td>Breakfast Stout</td>\n",
       "      <td>good color no head clean and balanced with an ...</td>\n",
       "      <td>0.765660</td>\n",
       "    </tr>\n",
       "    <tr>\n",
       "      <td>1</td>\n",
       "      <td>Flora Plum</td>\n",
       "      <td>2018 releasea pours a very light pale hazy kin...</td>\n",
       "      <td>0.765198</td>\n",
       "    </tr>\n",
       "    <tr>\n",
       "      <td>2</td>\n",
       "      <td>Abricot Du Fermier</td>\n",
       "      <td>this is the best sour saison i have ever had n...</td>\n",
       "      <td>0.758598</td>\n",
       "    </tr>\n",
       "    <tr>\n",
       "      <td>3</td>\n",
       "      <td>Flora</td>\n",
       "      <td>flora is clean crisp light and tart with smoot...</td>\n",
       "      <td>0.748414</td>\n",
       "    </tr>\n",
       "    <tr>\n",
       "      <td>4</td>\n",
       "      <td>Melcher Street (Double Dry-Hopped)</td>\n",
       "      <td>canned on 10918pours a bright deeply hazy oran...</td>\n",
       "      <td>0.745546</td>\n",
       "    </tr>\n",
       "  </tbody>\n",
       "</table>\n",
       "</div>"
      ],
      "text/plain": [
       "                         product_name  \\\n",
       "0                     Breakfast Stout   \n",
       "1                          Flora Plum   \n",
       "2                  Abricot Du Fermier   \n",
       "3                               Flora   \n",
       "4  Melcher Street (Double Dry-Hopped)   \n",
       "\n",
       "                                      product_review  similarity_score  \n",
       "0  good color no head clean and balanced with an ...          0.765660  \n",
       "1  2018 releasea pours a very light pale hazy kin...          0.765198  \n",
       "2  this is the best sour saison i have ever had n...          0.758598  \n",
       "3  flora is clean crisp light and tart with smoot...          0.748414  \n",
       "4  canned on 10918pours a bright deeply hazy oran...          0.745546  "
      ]
     },
     "execution_count": 26,
     "metadata": {},
     "output_type": "execute_result"
    }
   ],
   "source": [
    "#import file with reduced number of reviews - ie 300 reviews that have the highest similarity scores\n",
    "data = pd.read_csv('output_partC.csv')\n",
    "data.drop(['Unnamed: 0','user_rating'], axis=1,inplace=True)\n",
    "data.head()"
   ]
  },
  {
   "cell_type": "code",
   "execution_count": 27,
   "metadata": {},
   "outputs": [],
   "source": [
    "def sentiment_analyzer_scores(sentence):\n",
    "    score = analyser.polarity_scores(sentence)\n",
    "    print(\"{:-<40} {}\".format(sentence, str(score)))"
   ]
  },
  {
   "cell_type": "code",
   "execution_count": 28,
   "metadata": {},
   "outputs": [
    {
     "name": "stdout",
     "output_type": "stream",
     "text": [
      "I hate this product.-------------------- {'neg': 0.649, 'neu': 0.351, 'pos': 0.0, 'compound': -0.5719}\n",
      "I love this product!-------------------- {'neg': 0.0, 'neu': 0.308, 'pos': 0.692, 'compound': 0.6696}\n",
      "I think this product is okay.----------- {'neg': 0.0, 'neu': 0.678, 'pos': 0.322, 'compound': 0.2263}\n"
     ]
    }
   ],
   "source": [
    "##Checking the sentiment\n",
    "sentiment_analyzer_scores(\"I hate this product.\")\n",
    "sentiment_analyzer_scores(\"I love this product!\")\n",
    "sentiment_analyzer_scores(\"I think this product is okay.\")"
   ]
  },
  {
   "cell_type": "code",
   "execution_count": 29,
   "metadata": {},
   "outputs": [],
   "source": [
    "data['sentiment_neg'] = data['product_review'].apply(lambda x :analyser.polarity_scores(x)['neg'])\n",
    "data['sentiment_neu'] = data['product_review'].apply(lambda x :analyser.polarity_scores(x)['neu'])\n",
    "data['sentiment_pos'] = data['product_review'].apply(lambda x :analyser.polarity_scores(x)['pos'])\n",
    "data['sentiment_compound'] = data['product_review'].apply(lambda x :analyser.polarity_scores(x)['compound'])"
   ]
  },
  {
   "cell_type": "code",
   "execution_count": 30,
   "metadata": {},
   "outputs": [
    {
     "data": {
      "text/html": [
       "<div>\n",
       "<style scoped>\n",
       "    .dataframe tbody tr th:only-of-type {\n",
       "        vertical-align: middle;\n",
       "    }\n",
       "\n",
       "    .dataframe tbody tr th {\n",
       "        vertical-align: top;\n",
       "    }\n",
       "\n",
       "    .dataframe thead th {\n",
       "        text-align: right;\n",
       "    }\n",
       "</style>\n",
       "<table border=\"1\" class=\"dataframe\">\n",
       "  <thead>\n",
       "    <tr style=\"text-align: right;\">\n",
       "      <th></th>\n",
       "      <th>product_name</th>\n",
       "      <th>product_review</th>\n",
       "      <th>similarity_score</th>\n",
       "      <th>sentiment_neg</th>\n",
       "      <th>sentiment_neu</th>\n",
       "      <th>sentiment_pos</th>\n",
       "      <th>sentiment_compound</th>\n",
       "    </tr>\n",
       "  </thead>\n",
       "  <tbody>\n",
       "    <tr>\n",
       "      <td>0</td>\n",
       "      <td>Breakfast Stout</td>\n",
       "      <td>good color no head clean and balanced with an ...</td>\n",
       "      <td>0.765660</td>\n",
       "      <td>0.053</td>\n",
       "      <td>0.413</td>\n",
       "      <td>0.534</td>\n",
       "      <td>0.9628</td>\n",
       "    </tr>\n",
       "    <tr>\n",
       "      <td>1</td>\n",
       "      <td>Flora Plum</td>\n",
       "      <td>2018 releasea pours a very light pale hazy kin...</td>\n",
       "      <td>0.765198</td>\n",
       "      <td>0.023</td>\n",
       "      <td>0.815</td>\n",
       "      <td>0.162</td>\n",
       "      <td>0.9230</td>\n",
       "    </tr>\n",
       "    <tr>\n",
       "      <td>2</td>\n",
       "      <td>Abricot Du Fermier</td>\n",
       "      <td>this is the best sour saison i have ever had n...</td>\n",
       "      <td>0.758598</td>\n",
       "      <td>0.000</td>\n",
       "      <td>0.728</td>\n",
       "      <td>0.272</td>\n",
       "      <td>0.9565</td>\n",
       "    </tr>\n",
       "    <tr>\n",
       "      <td>3</td>\n",
       "      <td>Flora</td>\n",
       "      <td>flora is clean crisp light and tart with smoot...</td>\n",
       "      <td>0.748414</td>\n",
       "      <td>0.000</td>\n",
       "      <td>0.909</td>\n",
       "      <td>0.091</td>\n",
       "      <td>0.4019</td>\n",
       "    </tr>\n",
       "    <tr>\n",
       "      <td>4</td>\n",
       "      <td>Melcher Street (Double Dry-Hopped)</td>\n",
       "      <td>canned on 10918pours a bright deeply hazy oran...</td>\n",
       "      <td>0.745546</td>\n",
       "      <td>0.042</td>\n",
       "      <td>0.807</td>\n",
       "      <td>0.151</td>\n",
       "      <td>0.9525</td>\n",
       "    </tr>\n",
       "  </tbody>\n",
       "</table>\n",
       "</div>"
      ],
      "text/plain": [
       "                         product_name  \\\n",
       "0                     Breakfast Stout   \n",
       "1                          Flora Plum   \n",
       "2                  Abricot Du Fermier   \n",
       "3                               Flora   \n",
       "4  Melcher Street (Double Dry-Hopped)   \n",
       "\n",
       "                                      product_review  similarity_score  \\\n",
       "0  good color no head clean and balanced with an ...          0.765660   \n",
       "1  2018 releasea pours a very light pale hazy kin...          0.765198   \n",
       "2  this is the best sour saison i have ever had n...          0.758598   \n",
       "3  flora is clean crisp light and tart with smoot...          0.748414   \n",
       "4  canned on 10918pours a bright deeply hazy oran...          0.745546   \n",
       "\n",
       "   sentiment_neg  sentiment_neu  sentiment_pos  sentiment_compound  \n",
       "0          0.053          0.413          0.534              0.9628  \n",
       "1          0.023          0.815          0.162              0.9230  \n",
       "2          0.000          0.728          0.272              0.9565  \n",
       "3          0.000          0.909          0.091              0.4019  \n",
       "4          0.042          0.807          0.151              0.9525  "
      ]
     },
     "execution_count": 30,
     "metadata": {},
     "output_type": "execute_result"
    }
   ],
   "source": [
    "data.head()"
   ]
  },
  {
   "cell_type": "markdown",
   "metadata": {},
   "source": [
    "## PART E"
   ]
  },
  {
   "cell_type": "code",
   "execution_count": 31,
   "metadata": {},
   "outputs": [],
   "source": [
    "recomdat = data.groupby(by = 'product_name').mean()\n",
    "\n",
    "recbestpos = recomdat.sort_values(by = ['sentiment_compound'], axis = 0, ascending = False)[:1]\n",
    "reclowestneg = recomdat.sort_values(by = ['sentiment_pos'], axis = 0, ascending = False)[:1]\n",
    "preferencebeer = recomdat.sort_values(by = ['similarity_score'], axis = 0, ascending = False)[:1]"
   ]
  },
  {
   "cell_type": "code",
   "execution_count": 32,
   "metadata": {},
   "outputs": [
    {
     "data": {
      "text/html": [
       "<div>\n",
       "<style scoped>\n",
       "    .dataframe tbody tr th:only-of-type {\n",
       "        vertical-align: middle;\n",
       "    }\n",
       "\n",
       "    .dataframe tbody tr th {\n",
       "        vertical-align: top;\n",
       "    }\n",
       "\n",
       "    .dataframe thead th {\n",
       "        text-align: right;\n",
       "    }\n",
       "</style>\n",
       "<table border=\"1\" class=\"dataframe\">\n",
       "  <thead>\n",
       "    <tr style=\"text-align: right;\">\n",
       "      <th></th>\n",
       "      <th>similarity_score</th>\n",
       "      <th>sentiment_neg</th>\n",
       "      <th>sentiment_neu</th>\n",
       "      <th>sentiment_pos</th>\n",
       "      <th>sentiment_compound</th>\n",
       "    </tr>\n",
       "    <tr>\n",
       "      <th>product_name</th>\n",
       "      <th></th>\n",
       "      <th></th>\n",
       "      <th></th>\n",
       "      <th></th>\n",
       "      <th></th>\n",
       "    </tr>\n",
       "  </thead>\n",
       "  <tbody>\n",
       "    <tr>\n",
       "      <td>Black &amp; Wild</td>\n",
       "      <td>0.698476</td>\n",
       "      <td>0.006</td>\n",
       "      <td>0.724</td>\n",
       "      <td>0.271</td>\n",
       "      <td>0.9975</td>\n",
       "    </tr>\n",
       "    <tr>\n",
       "      <td>It Was All A Dream</td>\n",
       "      <td>0.701630</td>\n",
       "      <td>0.128</td>\n",
       "      <td>0.458</td>\n",
       "      <td>0.414</td>\n",
       "      <td>0.9390</td>\n",
       "    </tr>\n",
       "    <tr>\n",
       "      <td>Melcher Street (Double Dry-Hopped)</td>\n",
       "      <td>0.745546</td>\n",
       "      <td>0.042</td>\n",
       "      <td>0.807</td>\n",
       "      <td>0.151</td>\n",
       "      <td>0.9525</td>\n",
       "    </tr>\n",
       "  </tbody>\n",
       "</table>\n",
       "</div>"
      ],
      "text/plain": [
       "                                    similarity_score  sentiment_neg  \\\n",
       "product_name                                                          \n",
       "Black & Wild                                0.698476          0.006   \n",
       "It Was All A Dream                          0.701630          0.128   \n",
       "Melcher Street (Double Dry-Hopped)          0.745546          0.042   \n",
       "\n",
       "                                    sentiment_neu  sentiment_pos  \\\n",
       "product_name                                                       \n",
       "Black & Wild                                0.724          0.271   \n",
       "It Was All A Dream                          0.458          0.414   \n",
       "Melcher Street (Double Dry-Hopped)          0.807          0.151   \n",
       "\n",
       "                                    sentiment_compound  \n",
       "product_name                                            \n",
       "Black & Wild                                    0.9975  \n",
       "It Was All A Dream                              0.9390  \n",
       "Melcher Street (Double Dry-Hopped)              0.9525  "
      ]
     },
     "execution_count": 32,
     "metadata": {},
     "output_type": "execute_result"
    }
   ],
   "source": [
    "Recommended = recbestpos.append(reclowestneg)\n",
    "Recommended = Recommended.append(preferencebeer)\n",
    "Recommended"
   ]
  },
  {
   "cell_type": "markdown",
   "metadata": {},
   "source": [
    "Our recommended beers are the beers with the highest average compund sentiment, the highest average positive sentiment and the highest combined similarity score of the three important attributes. This provides recommendations to try the two best rated beers by compound sentiment and positive sentiment for someone seeking the best tasting beers in this category as well as a reccomendation for the person seeking a beer with the highest score against the predefined attributes that focuses on meeting their preferences for crisp, balanced and robust beer."
   ]
  },
  {
   "cell_type": "markdown",
   "metadata": {},
   "source": [
    "## PART F"
   ]
  },
  {
   "cell_type": "markdown",
   "metadata": {},
   "source": [
    "#### Check top rated beers"
   ]
  },
  {
   "cell_type": "code",
   "execution_count": 33,
   "metadata": {},
   "outputs": [
    {
     "data": {
      "text/plain": [
       "product_name\n",
       "Kentucky Brunch Brand Stout    4.812000\n",
       "Chemtrailmix                   4.811176\n",
       "Barrel-Aged Abraxas            4.796400\n",
       "Name: user_rating, dtype: float64"
      ]
     },
     "execution_count": 33,
     "metadata": {},
     "output_type": "execute_result"
    }
   ],
   "source": [
    "#Calculate average for each beer and show top 3 average scores\n",
    "df.groupby([\"product_name\"])[\"user_rating\"].mean().sort_values(ascending=False)[:3]"
   ]
  },
  {
   "cell_type": "code",
   "execution_count": 42,
   "metadata": {},
   "outputs": [],
   "source": [
    "#df[\"similarity_score\"] = (df[\"similarity_crisp\"] + df[\"similarity_bal\"] + df[\"similarity_rob\"]) / 3"
   ]
  },
  {
   "cell_type": "code",
   "execution_count": 34,
   "metadata": {},
   "outputs": [
    {
     "data": {
      "text/plain": [
       "product_name\n",
       "Chemtrailmix                   0.626864\n",
       "Barrel-Aged Abraxas            0.617175\n",
       "Kentucky Brunch Brand Stout    0.594652\n",
       "Name: similarity_score, dtype: float64"
      ]
     },
     "execution_count": 34,
     "metadata": {},
     "output_type": "execute_result"
    }
   ],
   "source": [
    "#create mask for top 3 beers by average score and calc their similarity scores\n",
    "mask = (df[\"product_name\"] == \"Kentucky Brunch Brand Stout\") | (raw[\"product_name\"] == \"Chemtrailmix\") | (raw[\"product_name\"] == \"Barrel-Aged Abraxas\")\n",
    "df[mask].groupby([\"product_name\"])[\"similarity_score\"].mean().sort_values(ascending=False)"
   ]
  },
  {
   "cell_type": "markdown",
   "metadata": {},
   "source": [
    "#### Check if they appear in top 300 reviews"
   ]
  },
  {
   "cell_type": "code",
   "execution_count": 35,
   "metadata": {},
   "outputs": [
    {
     "data": {
      "text/plain": [
       "Series([], Name: similarity_score, dtype: float64)"
      ]
     },
     "execution_count": 35,
     "metadata": {},
     "output_type": "execute_result"
    }
   ],
   "source": [
    "mask = data[\"product_name\"] == \"Chemtrailmix\"\n",
    "data[mask].groupby([\"product_name\"])[\"similarity_score\"].mean()"
   ]
  },
  {
   "cell_type": "code",
   "execution_count": 36,
   "metadata": {},
   "outputs": [
    {
     "data": {
      "text/plain": [
       "product_name\n",
       "Barrel-Aged Abraxas    0.723731\n",
       "Name: similarity_score, dtype: float64"
      ]
     },
     "execution_count": 36,
     "metadata": {},
     "output_type": "execute_result"
    }
   ],
   "source": [
    "mask = data[\"product_name\"] == \"Barrel-Aged Abraxas\"\n",
    "data[mask].groupby([\"product_name\"])[\"similarity_score\"].mean()"
   ]
  },
  {
   "cell_type": "code",
   "execution_count": 37,
   "metadata": {},
   "outputs": [
    {
     "data": {
      "text/plain": [
       "Series([], Name: similarity_score, dtype: float64)"
      ]
     },
     "execution_count": 37,
     "metadata": {},
     "output_type": "execute_result"
    }
   ],
   "source": [
    "mask = data[\"product_name\"] == \"Kentucky Brunch Brand Stout\"\n",
    "data[mask].groupby([\"product_name\"])[\"similarity_score\"].mean()"
   ]
  },
  {
   "cell_type": "markdown",
   "metadata": {},
   "source": [
    "#### Compare missing beer with lowest attribute scores of beers in top 300 reviews across the entire scraped set of reviews"
   ]
  },
  {
   "cell_type": "code",
   "execution_count": 38,
   "metadata": {},
   "outputs": [
    {
     "data": {
      "text/html": [
       "<div>\n",
       "<style scoped>\n",
       "    .dataframe tbody tr th:only-of-type {\n",
       "        vertical-align: middle;\n",
       "    }\n",
       "\n",
       "    .dataframe tbody tr th {\n",
       "        vertical-align: top;\n",
       "    }\n",
       "\n",
       "    .dataframe thead th {\n",
       "        text-align: right;\n",
       "    }\n",
       "</style>\n",
       "<table border=\"1\" class=\"dataframe\">\n",
       "  <thead>\n",
       "    <tr style=\"text-align: right;\">\n",
       "      <th></th>\n",
       "      <th>similarity_score</th>\n",
       "      <th>sentiment_neg</th>\n",
       "      <th>sentiment_neu</th>\n",
       "      <th>sentiment_pos</th>\n",
       "      <th>sentiment_compound</th>\n",
       "    </tr>\n",
       "    <tr>\n",
       "      <th>product_name</th>\n",
       "      <th></th>\n",
       "      <th></th>\n",
       "      <th></th>\n",
       "      <th></th>\n",
       "      <th></th>\n",
       "    </tr>\n",
       "  </thead>\n",
       "  <tbody>\n",
       "    <tr>\n",
       "      <td>Expedition Stout - Bourbon Barrel-Aged</td>\n",
       "      <td>0.695701</td>\n",
       "      <td>0.028</td>\n",
       "      <td>0.838</td>\n",
       "      <td>0.133</td>\n",
       "      <td>0.9678</td>\n",
       "    </tr>\n",
       "  </tbody>\n",
       "</table>\n",
       "</div>"
      ],
      "text/plain": [
       "                                        similarity_score  sentiment_neg  \\\n",
       "product_name                                                              \n",
       "Expedition Stout - Bourbon Barrel-Aged          0.695701          0.028   \n",
       "\n",
       "                                        sentiment_neu  sentiment_pos  \\\n",
       "product_name                                                           \n",
       "Expedition Stout - Bourbon Barrel-Aged          0.838          0.133   \n",
       "\n",
       "                                        sentiment_compound  \n",
       "product_name                                                \n",
       "Expedition Stout - Bourbon Barrel-Aged              0.9678  "
      ]
     },
     "execution_count": 38,
     "metadata": {},
     "output_type": "execute_result"
    }
   ],
   "source": [
    "#compare with lowest similarity score from above analysis\n",
    "preferencebeer = recomdat.sort_values(by = ['similarity_score'], axis = 0, ascending = True)[:1]\n",
    "preferencebeer"
   ]
  },
  {
   "cell_type": "code",
   "execution_count": 39,
   "metadata": {},
   "outputs": [
    {
     "data": {
      "text/plain": [
       "product_name\n",
       "Expedition Stout - Bourbon Barrel-Aged    0.6213\n",
       "Name: similarity_score, dtype: float64"
      ]
     },
     "execution_count": 39,
     "metadata": {},
     "output_type": "execute_result"
    }
   ],
   "source": [
    "mask = df[\"product_name\"] == \"Expedition Stout - Bourbon Barrel-Aged\"\n",
    "df[mask].groupby([\"product_name\"])[\"similarity_score\"].mean()"
   ]
  },
  {
   "cell_type": "markdown",
   "metadata": {},
   "source": [
    "#### Conclusion"
   ]
  },
  {
   "cell_type": "markdown",
   "metadata": {},
   "source": [
    "One of the three top rated beers, Barrel-Aged Abraxas appear in the top 300 reviews based on similarity scores. Therefore this beer would meet the user requirements.\n",
    "\n",
    "Chemtrailmix may meet the user requirements as it has a higher average similarity score to the lowest average similarity score of beers appearing in the top 300 reviews (based on the average similarity across all reviews) but was not captured in the top 300. It could still be recommended.\n",
    "\n",
    "Kentucky Brunch Brand Stout does not meet the user requirements based on it not appearing in the top 300 reviews and having an average similarity score below the lowest average similarity score from the 300 reviews."
   ]
  },
  {
   "cell_type": "code",
   "execution_count": null,
   "metadata": {},
   "outputs": [],
   "source": []
  }
 ],
 "metadata": {
  "kernelspec": {
   "display_name": "Python 3",
   "language": "python",
   "name": "python3"
  },
  "language_info": {
   "codemirror_mode": {
    "name": "ipython",
    "version": 3
   },
   "file_extension": ".py",
   "mimetype": "text/x-python",
   "name": "python",
   "nbconvert_exporter": "python",
   "pygments_lexer": "ipython3",
   "version": "3.7.4"
  }
 },
 "nbformat": 4,
 "nbformat_minor": 2
}
