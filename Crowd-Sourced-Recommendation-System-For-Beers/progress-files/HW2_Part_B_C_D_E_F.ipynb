{
 "cells": [
  {
   "cell_type": "markdown",
   "metadata": {},
   "source": [
    "Picking up from Sebastian's scraped code output."
   ]
  },
  {
   "cell_type": "code",
   "execution_count": 1,
   "metadata": {},
   "outputs": [
    {
     "name": "stdout",
     "output_type": "stream",
     "text": [
      "Requirement already satisfied: vaderSentiment in c:\\users\\geogh\\anaconda3\\lib\\site-packages (3.2.1)\n"
     ]
    }
   ],
   "source": [
    "# Library Imports\n",
    "import spacy\n",
    "import en_core_web_lg\n",
    "import pandas as pd\n",
    "import nltk\n",
    "from nltk.corpus import stopwords\n",
    "from string import punctuation\n",
    "from nltk.tokenize import sent_tokenize, word_tokenize\n",
    "from nltk.stem import WordNetLemmatizer\n",
    "nlp = en_core_web_lg.load() #just import once or will take some time\n",
    "!pip install vaderSentiment\n",
    "from vaderSentiment.vaderSentiment import SentimentIntensityAnalyzer\n",
    "analyser = SentimentIntensityAnalyzer()"
   ]
  },
  {
   "cell_type": "markdown",
   "metadata": {},
   "source": [
    "## PART B"
   ]
  },
  {
   "cell_type": "code",
   "execution_count": 2,
   "metadata": {},
   "outputs": [
    {
     "data": {
      "text/plain": [
       "Whats up , MSBA rocks!!!>cld??."
      ]
     },
     "execution_count": 2,
     "metadata": {},
     "output_type": "execute_result"
    }
   ],
   "source": [
    "doc = nlp(\"Whats up , MSBA rocks!!!>cld??.\")\n",
    "doc"
   ]
  },
  {
   "cell_type": "code",
   "execution_count": 3,
   "metadata": {},
   "outputs": [
    {
     "data": {
      "text/html": [
       "<div>\n",
       "<style scoped>\n",
       "    .dataframe tbody tr th:only-of-type {\n",
       "        vertical-align: middle;\n",
       "    }\n",
       "\n",
       "    .dataframe tbody tr th {\n",
       "        vertical-align: top;\n",
       "    }\n",
       "\n",
       "    .dataframe thead th {\n",
       "        text-align: right;\n",
       "    }\n",
       "</style>\n",
       "<table border=\"1\" class=\"dataframe\">\n",
       "  <thead>\n",
       "    <tr style=\"text-align: right;\">\n",
       "      <th></th>\n",
       "      <th>product_name</th>\n",
       "      <th>product_review</th>\n",
       "      <th>user_rating</th>\n",
       "    </tr>\n",
       "  </thead>\n",
       "  <tbody>\n",
       "    <tr>\n",
       "      <th>0</th>\n",
       "      <td>Kentucky Brunch Brand Stout</td>\n",
       "      <td>2016 Silver Wax. Aroma has whiskey, maple, tof...</td>\n",
       "      <td>4.80</td>\n",
       "    </tr>\n",
       "    <tr>\n",
       "      <th>1</th>\n",
       "      <td>Kentucky Brunch Brand Stout</td>\n",
       "      <td>The beer pours Pitch Black with a frothy tan h...</td>\n",
       "      <td>4.74</td>\n",
       "    </tr>\n",
       "    <tr>\n",
       "      <th>2</th>\n",
       "      <td>Kentucky Brunch Brand Stout</td>\n",
       "      <td>Probably the smoothest beer I have ever had. S...</td>\n",
       "      <td>4.68</td>\n",
       "    </tr>\n",
       "    <tr>\n",
       "      <th>3</th>\n",
       "      <td>Kentucky Brunch Brand Stout</td>\n",
       "      <td>Dark black, very thick, a little bit of tan he...</td>\n",
       "      <td>5.00</td>\n",
       "    </tr>\n",
       "    <tr>\n",
       "      <th>4</th>\n",
       "      <td>Kentucky Brunch Brand Stout</td>\n",
       "      <td>Poured black as ink with thin ruby edges at 58...</td>\n",
       "      <td>4.97</td>\n",
       "    </tr>\n",
       "  </tbody>\n",
       "</table>\n",
       "</div>"
      ],
      "text/plain": [
       "                  product_name  \\\n",
       "0  Kentucky Brunch Brand Stout   \n",
       "1  Kentucky Brunch Brand Stout   \n",
       "2  Kentucky Brunch Brand Stout   \n",
       "3  Kentucky Brunch Brand Stout   \n",
       "4  Kentucky Brunch Brand Stout   \n",
       "\n",
       "                                      product_review  user_rating  \n",
       "0  2016 Silver Wax. Aroma has whiskey, maple, tof...         4.80  \n",
       "1  The beer pours Pitch Black with a frothy tan h...         4.74  \n",
       "2  Probably the smoothest beer I have ever had. S...         4.68  \n",
       "3  Dark black, very thick, a little bit of tan he...         5.00  \n",
       "4  Poured black as ink with thin ruby edges at 58...         4.97  "
      ]
     },
     "execution_count": 3,
     "metadata": {},
     "output_type": "execute_result"
    }
   ],
   "source": [
    "raw = pd.read_csv(\"https://raw.githubusercontent.com/coldonline/TextAnalytics/master/HW2/reviews_text.csv\")\n",
    "raw.drop(['Unnamed: 0'], axis=1,inplace=True)\n",
    "raw.to_csv(\"raw_scrape.csv\")\n",
    "raw.head()"
   ]
  },
  {
   "cell_type": "code",
   "execution_count": 4,
   "metadata": {},
   "outputs": [],
   "source": [
    "# DATA CLEANSING FUNCTIONS\n",
    "\n",
    "def remove_space(s):\n",
    "    return s.replace(\"\\n\",\" \")\n",
    "\n",
    "def removepunc(item):\n",
    "    for p in punctuation:\n",
    "        item = item.lstrip().replace(p,'')\n",
    "    return item\n",
    "\n",
    "def lowerize(x):\n",
    "    return x.lower()\n",
    "\n",
    "stop_words = set(stopwords.words('english'))\n",
    "\n",
    "def remove_stopwords(s):\n",
    "    return [w for w in s if not w in stop_words] \n",
    "\n",
    "def lematize(l):\n",
    "    s=[]\n",
    "    for i in l:\n",
    "        s.append(wordnet_lemmatizer.lemmatize(i))\n",
    "    return s"
   ]
  },
  {
   "cell_type": "code",
   "execution_count": 5,
   "metadata": {},
   "outputs": [
    {
     "name": "stdout",
     "output_type": "stream",
     "text": [
      "(6214, 3)\n",
      "(6214, 3)\n"
     ]
    },
    {
     "data": {
      "text/html": [
       "<div>\n",
       "<style scoped>\n",
       "    .dataframe tbody tr th:only-of-type {\n",
       "        vertical-align: middle;\n",
       "    }\n",
       "\n",
       "    .dataframe tbody tr th {\n",
       "        vertical-align: top;\n",
       "    }\n",
       "\n",
       "    .dataframe thead th {\n",
       "        text-align: right;\n",
       "    }\n",
       "</style>\n",
       "<table border=\"1\" class=\"dataframe\">\n",
       "  <thead>\n",
       "    <tr style=\"text-align: right;\">\n",
       "      <th></th>\n",
       "      <th>product_name</th>\n",
       "      <th>product_review</th>\n",
       "      <th>user_rating</th>\n",
       "      <th>review_words</th>\n",
       "    </tr>\n",
       "  </thead>\n",
       "  <tbody>\n",
       "    <tr>\n",
       "      <th>0</th>\n",
       "      <td>Kentucky Brunch Brand Stout</td>\n",
       "      <td>2016 silver wax aroma has whiskey maple toffee...</td>\n",
       "      <td>4.80</td>\n",
       "      <td>[umami, maple, aroma, wood, silver, coffee, bi...</td>\n",
       "    </tr>\n",
       "    <tr>\n",
       "      <th>1</th>\n",
       "      <td>Kentucky Brunch Brand Stout</td>\n",
       "      <td>the beer pours pitch black with a frothy tan h...</td>\n",
       "      <td>4.74</td>\n",
       "      <td>[maple, pours, syrup, tan, tastes, coffee, smo...</td>\n",
       "    </tr>\n",
       "    <tr>\n",
       "      <th>2</th>\n",
       "      <td>Kentucky Brunch Brand Stout</td>\n",
       "      <td>probably the smoothest beer i have ever had sm...</td>\n",
       "      <td>4.68</td>\n",
       "      <td>[caramelmaple, maple, overall, mostly, tasted,...</td>\n",
       "    </tr>\n",
       "    <tr>\n",
       "      <th>3</th>\n",
       "      <td>Kentucky Brunch Brand Stout</td>\n",
       "      <td>dark black very thick a little bit of tan head...</td>\n",
       "      <td>5.00</td>\n",
       "      <td>[letdown, mouthfeel, maple, best, bad, tan, am...</td>\n",
       "    </tr>\n",
       "    <tr>\n",
       "      <th>4</th>\n",
       "      <td>Kentucky Brunch Brand Stout</td>\n",
       "      <td>poured black as ink with thin ruby edges at 58...</td>\n",
       "      <td>4.97</td>\n",
       "      <td>[lasting, cherries, full, syrup, coffee, ink, ...</td>\n",
       "    </tr>\n",
       "  </tbody>\n",
       "</table>\n",
       "</div>"
      ],
      "text/plain": [
       "                  product_name  \\\n",
       "0  Kentucky Brunch Brand Stout   \n",
       "1  Kentucky Brunch Brand Stout   \n",
       "2  Kentucky Brunch Brand Stout   \n",
       "3  Kentucky Brunch Brand Stout   \n",
       "4  Kentucky Brunch Brand Stout   \n",
       "\n",
       "                                      product_review  user_rating  \\\n",
       "0  2016 silver wax aroma has whiskey maple toffee...         4.80   \n",
       "1  the beer pours pitch black with a frothy tan h...         4.74   \n",
       "2  probably the smoothest beer i have ever had sm...         4.68   \n",
       "3  dark black very thick a little bit of tan head...         5.00   \n",
       "4  poured black as ink with thin ruby edges at 58...         4.97   \n",
       "\n",
       "                                        review_words  \n",
       "0  [umami, maple, aroma, wood, silver, coffee, bi...  \n",
       "1  [maple, pours, syrup, tan, tastes, coffee, smo...  \n",
       "2  [caramelmaple, maple, overall, mostly, tasted,...  \n",
       "3  [letdown, mouthfeel, maple, best, bad, tan, am...  \n",
       "4  [lasting, cherries, full, syrup, coffee, ink, ...  "
      ]
     },
     "execution_count": 5,
     "metadata": {},
     "output_type": "execute_result"
    }
   ],
   "source": [
    "df = raw.copy()\n",
    "print(df.shape)\n",
    "\n",
    "df = df.dropna()\n",
    "print(df.shape) #finding if there is any major loss due to this\n",
    "\n",
    "#Cleaning reviews for calculating word freq\n",
    "df['product_review'] = df['product_review'].apply(remove_space).apply(removepunc).apply(lowerize) \n",
    "wordnet_lemmatizer = WordNetLemmatizer()\n",
    "df['review_words'] = df['product_review'].str.split().apply(set).apply(list).apply(remove_stopwords)\n",
    "df.head()"
   ]
  },
  {
   "cell_type": "code",
   "execution_count": 6,
   "metadata": {},
   "outputs": [],
   "source": [
    "word_bag = []\n",
    "for i in range(df.shape[0]):\n",
    "    word_bag += df['review_words'][i]\n",
    "\n",
    "#word_bag\n",
    "\n",
    "word_freq = nltk.FreqDist(word_bag)"
   ]
  },
  {
   "cell_type": "code",
   "execution_count": 7,
   "metadata": {},
   "outputs": [
    {
     "data": {
      "text/plain": [
       "23894"
      ]
     },
     "execution_count": 7,
     "metadata": {},
     "output_type": "execute_result"
    }
   ],
   "source": [
    "len(word_freq) # number of words"
   ]
  },
  {
   "cell_type": "code",
   "execution_count": 8,
   "metadata": {},
   "outputs": [],
   "source": [
    "rslt = pd.DataFrame(word_freq.most_common(22337),              \n",
    "                    columns=['Word', 'Frequency'])\n",
    "rslt.head()\n",
    "rslt.to_csv(\"beer_review_wordcount.csv\")\n",
    "#some words like 'balanced', 'crisp' , 'robust' seem to be mixing with other words in the file, but that doesn't bother us \n",
    "#since we care only about existence than perfect counts"
   ]
  },
  {
   "cell_type": "markdown",
   "metadata": {},
   "source": [
    "# PART C"
   ]
  },
  {
   "cell_type": "code",
   "execution_count": 9,
   "metadata": {},
   "outputs": [],
   "source": [
    "# CHOOSING WORDS 'balanced' , 'crisp' , 'robust' they seem pretty prevelant in the data\n",
    "\n",
    "#spacy implementation\n",
    "\n",
    "\n",
    "def process_text(text):\n",
    "    doc = nlp(text.lower())\n",
    "    result = []\n",
    "    for token in doc:\n",
    "        if token.text in nlp.Defaults.stop_words:\n",
    "            continue\n",
    "        if token.is_punct:\n",
    "            continue\n",
    "#         if token.lemma_ == '-PRON-'\n",
    "#             continue\n",
    "        result.append(token.lemma_)\n",
    "    return \" \".join(result)\n",
    "\n",
    "def calculate_similarity(text1, text2):\n",
    "    base = nlp(process_text(text1))\n",
    "    compare = nlp(process_text(text2))\n",
    "    return base.similarity(compare)\n"
   ]
  },
  {
   "cell_type": "code",
   "execution_count": 11,
   "metadata": {},
   "outputs": [
    {
     "data": {
      "text/html": [
       "<div>\n",
       "<style scoped>\n",
       "    .dataframe tbody tr th:only-of-type {\n",
       "        vertical-align: middle;\n",
       "    }\n",
       "\n",
       "    .dataframe tbody tr th {\n",
       "        vertical-align: top;\n",
       "    }\n",
       "\n",
       "    .dataframe thead th {\n",
       "        text-align: right;\n",
       "    }\n",
       "</style>\n",
       "<table border=\"1\" class=\"dataframe\">\n",
       "  <thead>\n",
       "    <tr style=\"text-align: right;\">\n",
       "      <th></th>\n",
       "      <th>product_name</th>\n",
       "      <th>product_review</th>\n",
       "      <th>user_rating</th>\n",
       "      <th>review_words</th>\n",
       "      <th>similarity_crisp</th>\n",
       "      <th>similarity_bal</th>\n",
       "      <th>similarity_rob</th>\n",
       "    </tr>\n",
       "  </thead>\n",
       "  <tbody>\n",
       "    <tr>\n",
       "      <th>0</th>\n",
       "      <td>Kentucky Brunch Brand Stout</td>\n",
       "      <td>2016 silver wax aroma has whiskey maple toffee...</td>\n",
       "      <td>4.80</td>\n",
       "      <td>[umami, maple, aroma, wood, silver, coffee, bi...</td>\n",
       "      <td>0.539329</td>\n",
       "      <td>0.418854</td>\n",
       "      <td>0.312164</td>\n",
       "    </tr>\n",
       "    <tr>\n",
       "      <th>1</th>\n",
       "      <td>Kentucky Brunch Brand Stout</td>\n",
       "      <td>the beer pours pitch black with a frothy tan h...</td>\n",
       "      <td>4.74</td>\n",
       "      <td>[maple, pours, syrup, tan, tastes, coffee, smo...</td>\n",
       "      <td>0.598273</td>\n",
       "      <td>0.440048</td>\n",
       "      <td>0.340116</td>\n",
       "    </tr>\n",
       "    <tr>\n",
       "      <th>2</th>\n",
       "      <td>Kentucky Brunch Brand Stout</td>\n",
       "      <td>probably the smoothest beer i have ever had sm...</td>\n",
       "      <td>4.68</td>\n",
       "      <td>[caramelmaple, maple, overall, mostly, tasted,...</td>\n",
       "      <td>0.541582</td>\n",
       "      <td>0.539612</td>\n",
       "      <td>0.449008</td>\n",
       "    </tr>\n",
       "    <tr>\n",
       "      <th>3</th>\n",
       "      <td>Kentucky Brunch Brand Stout</td>\n",
       "      <td>dark black very thick a little bit of tan head...</td>\n",
       "      <td>5.00</td>\n",
       "      <td>[letdown, mouthfeel, maple, best, bad, tan, am...</td>\n",
       "      <td>0.551540</td>\n",
       "      <td>0.486125</td>\n",
       "      <td>0.384138</td>\n",
       "    </tr>\n",
       "    <tr>\n",
       "      <th>4</th>\n",
       "      <td>Kentucky Brunch Brand Stout</td>\n",
       "      <td>poured black as ink with thin ruby edges at 58...</td>\n",
       "      <td>4.97</td>\n",
       "      <td>[lasting, cherries, full, syrup, coffee, ink, ...</td>\n",
       "      <td>0.615404</td>\n",
       "      <td>0.516429</td>\n",
       "      <td>0.422285</td>\n",
       "    </tr>\n",
       "  </tbody>\n",
       "</table>\n",
       "</div>"
      ],
      "text/plain": [
       "                  product_name  \\\n",
       "0  Kentucky Brunch Brand Stout   \n",
       "1  Kentucky Brunch Brand Stout   \n",
       "2  Kentucky Brunch Brand Stout   \n",
       "3  Kentucky Brunch Brand Stout   \n",
       "4  Kentucky Brunch Brand Stout   \n",
       "\n",
       "                                      product_review  user_rating  \\\n",
       "0  2016 silver wax aroma has whiskey maple toffee...         4.80   \n",
       "1  the beer pours pitch black with a frothy tan h...         4.74   \n",
       "2  probably the smoothest beer i have ever had sm...         4.68   \n",
       "3  dark black very thick a little bit of tan head...         5.00   \n",
       "4  poured black as ink with thin ruby edges at 58...         4.97   \n",
       "\n",
       "                                        review_words  similarity_crisp  \\\n",
       "0  [umami, maple, aroma, wood, silver, coffee, bi...          0.539329   \n",
       "1  [maple, pours, syrup, tan, tastes, coffee, smo...          0.598273   \n",
       "2  [caramelmaple, maple, overall, mostly, tasted,...          0.541582   \n",
       "3  [letdown, mouthfeel, maple, best, bad, tan, am...          0.551540   \n",
       "4  [lasting, cherries, full, syrup, coffee, ink, ...          0.615404   \n",
       "\n",
       "   similarity_bal  similarity_rob  \n",
       "0        0.418854        0.312164  \n",
       "1        0.440048        0.340116  \n",
       "2        0.539612        0.449008  \n",
       "3        0.486125        0.384138  \n",
       "4        0.516429        0.422285  "
      ]
     },
     "execution_count": 11,
     "metadata": {},
     "output_type": "execute_result"
    }
   ],
   "source": [
    "# Not the cleanest piece of code, but can clean similarity calculation with above function later\n",
    "# This chunk might take some time\n",
    "df['similarity_crisp'] = 0\n",
    "df['similarity_bal'] = 0\n",
    "df['similarity_rob'] = 0\n",
    "\n",
    "for i in range(df.shape[0]):\n",
    "    df.loc[i,'similarity_crisp'] = nlp(process_text(df.product_review[i])).similarity(nlp(\"crisp\"))\n",
    "    df.loc[i,'similarity_bal'] = nlp(process_text(df.product_review[i])).similarity(nlp(\"balanced\"))\n",
    "    df.loc[i,'similarity_rob'] = nlp(process_text(df.product_review[i])).similarity(nlp(\"robust\"))\n",
    "df.head()"
   ]
  },
  {
   "cell_type": "code",
   "execution_count": 12,
   "metadata": {},
   "outputs": [],
   "source": [
    "df[['similarity_crisp', 'similarity_bal','similarity_rob']].mean(axis=1)\n",
    "df.drop(['review_words'], axis=1, inplace=True)"
   ]
  },
  {
   "cell_type": "code",
   "execution_count": null,
   "metadata": {},
   "outputs": [],
   "source": [
    "# data.to_csv('output_partC.csv')"
   ]
  },
  {
   "cell_type": "markdown",
   "metadata": {},
   "source": [
    "## PART D"
   ]
  },
  {
   "cell_type": "code",
   "execution_count": 13,
   "metadata": {},
   "outputs": [
    {
     "data": {
      "text/html": [
       "<div>\n",
       "<style scoped>\n",
       "    .dataframe tbody tr th:only-of-type {\n",
       "        vertical-align: middle;\n",
       "    }\n",
       "\n",
       "    .dataframe tbody tr th {\n",
       "        vertical-align: top;\n",
       "    }\n",
       "\n",
       "    .dataframe thead th {\n",
       "        text-align: right;\n",
       "    }\n",
       "</style>\n",
       "<table border=\"1\" class=\"dataframe\">\n",
       "  <thead>\n",
       "    <tr style=\"text-align: right;\">\n",
       "      <th></th>\n",
       "      <th>product_name</th>\n",
       "      <th>product_review</th>\n",
       "      <th>similarity_score</th>\n",
       "    </tr>\n",
       "  </thead>\n",
       "  <tbody>\n",
       "    <tr>\n",
       "      <th>0</th>\n",
       "      <td>Breakfast Stout</td>\n",
       "      <td>good color no head clean and balanced with an ...</td>\n",
       "      <td>0.615617</td>\n",
       "    </tr>\n",
       "    <tr>\n",
       "      <th>1</th>\n",
       "      <td>Flora Plum</td>\n",
       "      <td>2018 releasea pours a very light pale hazy kin...</td>\n",
       "      <td>0.611942</td>\n",
       "    </tr>\n",
       "    <tr>\n",
       "      <th>2</th>\n",
       "      <td>Abricot Du Fermier</td>\n",
       "      <td>this is the best sour saison i have ever had n...</td>\n",
       "      <td>0.608264</td>\n",
       "    </tr>\n",
       "    <tr>\n",
       "      <th>3</th>\n",
       "      <td>King Sue</td>\n",
       "      <td>the emphasis in the beer is a strong sharp hop...</td>\n",
       "      <td>0.599622</td>\n",
       "    </tr>\n",
       "    <tr>\n",
       "      <th>4</th>\n",
       "      <td>Flora</td>\n",
       "      <td>flora is clean crisp light and tart with smoot...</td>\n",
       "      <td>0.599248</td>\n",
       "    </tr>\n",
       "  </tbody>\n",
       "</table>\n",
       "</div>"
      ],
      "text/plain": [
       "         product_name                                     product_review  \\\n",
       "0     Breakfast Stout  good color no head clean and balanced with an ...   \n",
       "1          Flora Plum  2018 releasea pours a very light pale hazy kin...   \n",
       "2  Abricot Du Fermier  this is the best sour saison i have ever had n...   \n",
       "3            King Sue  the emphasis in the beer is a strong sharp hop...   \n",
       "4               Flora  flora is clean crisp light and tart with smoot...   \n",
       "\n",
       "   similarity_score  \n",
       "0          0.615617  \n",
       "1          0.611942  \n",
       "2          0.608264  \n",
       "3          0.599622  \n",
       "4          0.599248  "
      ]
     },
     "execution_count": 13,
     "metadata": {},
     "output_type": "execute_result"
    }
   ],
   "source": [
    "#import file with reduced number of reviews - ie 300 reviews that have the highest similarity scores\n",
    "data = pd.read_excel('output_partC.xlsx')\n",
    "data.drop(['Unnamed: 0'], axis=1,inplace=True)\n",
    "data.head()"
   ]
  },
  {
   "cell_type": "code",
   "execution_count": 14,
   "metadata": {},
   "outputs": [],
   "source": [
    "def sentiment_analyzer_scores(sentence):\n",
    "    score = analyser.polarity_scores(sentence)\n",
    "    print(\"{:-<40} {}\".format(sentence, str(score)))"
   ]
  },
  {
   "cell_type": "code",
   "execution_count": 15,
   "metadata": {},
   "outputs": [
    {
     "name": "stdout",
     "output_type": "stream",
     "text": [
      "I hate this product.-------------------- {'neg': 0.649, 'neu': 0.351, 'pos': 0.0, 'compound': -0.5719}\n",
      "I love this product!-------------------- {'neg': 0.0, 'neu': 0.308, 'pos': 0.692, 'compound': 0.6696}\n",
      "I think this product is okay.----------- {'neg': 0.0, 'neu': 0.678, 'pos': 0.322, 'compound': 0.2263}\n"
     ]
    }
   ],
   "source": [
    "sentiment_analyzer_scores(\"I hate this product.\")\n",
    "sentiment_analyzer_scores(\"I love this product!\")\n",
    "sentiment_analyzer_scores(\"I think this product is okay.\")"
   ]
  },
  {
   "cell_type": "code",
   "execution_count": 16,
   "metadata": {},
   "outputs": [],
   "source": [
    "data['sentiment_neg'] = data['product_review'].apply(lambda x :analyser.polarity_scores(x)['neg'])\n",
    "data['sentiment_neu'] = data['product_review'].apply(lambda x :analyser.polarity_scores(x)['neu'])\n",
    "data['sentiment_pos'] = data['product_review'].apply(lambda x :analyser.polarity_scores(x)['pos'])\n",
    "data['sentiment_compound'] = data['product_review'].apply(lambda x :analyser.polarity_scores(x)['compound'])"
   ]
  },
  {
   "cell_type": "code",
   "execution_count": 17,
   "metadata": {},
   "outputs": [
    {
     "data": {
      "text/html": [
       "<div>\n",
       "<style scoped>\n",
       "    .dataframe tbody tr th:only-of-type {\n",
       "        vertical-align: middle;\n",
       "    }\n",
       "\n",
       "    .dataframe tbody tr th {\n",
       "        vertical-align: top;\n",
       "    }\n",
       "\n",
       "    .dataframe thead th {\n",
       "        text-align: right;\n",
       "    }\n",
       "</style>\n",
       "<table border=\"1\" class=\"dataframe\">\n",
       "  <thead>\n",
       "    <tr style=\"text-align: right;\">\n",
       "      <th></th>\n",
       "      <th>product_name</th>\n",
       "      <th>product_review</th>\n",
       "      <th>similarity_score</th>\n",
       "      <th>sentiment_neg</th>\n",
       "      <th>sentiment_neu</th>\n",
       "      <th>sentiment_pos</th>\n",
       "      <th>sentiment_compound</th>\n",
       "    </tr>\n",
       "  </thead>\n",
       "  <tbody>\n",
       "    <tr>\n",
       "      <th>0</th>\n",
       "      <td>Breakfast Stout</td>\n",
       "      <td>good color no head clean and balanced with an ...</td>\n",
       "      <td>0.615617</td>\n",
       "      <td>0.053</td>\n",
       "      <td>0.413</td>\n",
       "      <td>0.534</td>\n",
       "      <td>0.9628</td>\n",
       "    </tr>\n",
       "    <tr>\n",
       "      <th>1</th>\n",
       "      <td>Flora Plum</td>\n",
       "      <td>2018 releasea pours a very light pale hazy kin...</td>\n",
       "      <td>0.611942</td>\n",
       "      <td>0.023</td>\n",
       "      <td>0.815</td>\n",
       "      <td>0.162</td>\n",
       "      <td>0.9230</td>\n",
       "    </tr>\n",
       "    <tr>\n",
       "      <th>2</th>\n",
       "      <td>Abricot Du Fermier</td>\n",
       "      <td>this is the best sour saison i have ever had n...</td>\n",
       "      <td>0.608264</td>\n",
       "      <td>0.000</td>\n",
       "      <td>0.728</td>\n",
       "      <td>0.272</td>\n",
       "      <td>0.9565</td>\n",
       "    </tr>\n",
       "    <tr>\n",
       "      <th>3</th>\n",
       "      <td>King Sue</td>\n",
       "      <td>the emphasis in the beer is a strong sharp hop...</td>\n",
       "      <td>0.599622</td>\n",
       "      <td>0.000</td>\n",
       "      <td>0.848</td>\n",
       "      <td>0.152</td>\n",
       "      <td>0.7906</td>\n",
       "    </tr>\n",
       "    <tr>\n",
       "      <th>4</th>\n",
       "      <td>Flora</td>\n",
       "      <td>flora is clean crisp light and tart with smoot...</td>\n",
       "      <td>0.599248</td>\n",
       "      <td>0.000</td>\n",
       "      <td>0.909</td>\n",
       "      <td>0.091</td>\n",
       "      <td>0.4019</td>\n",
       "    </tr>\n",
       "  </tbody>\n",
       "</table>\n",
       "</div>"
      ],
      "text/plain": [
       "         product_name                                     product_review  \\\n",
       "0     Breakfast Stout  good color no head clean and balanced with an ...   \n",
       "1          Flora Plum  2018 releasea pours a very light pale hazy kin...   \n",
       "2  Abricot Du Fermier  this is the best sour saison i have ever had n...   \n",
       "3            King Sue  the emphasis in the beer is a strong sharp hop...   \n",
       "4               Flora  flora is clean crisp light and tart with smoot...   \n",
       "\n",
       "   similarity_score  sentiment_neg  sentiment_neu  sentiment_pos  \\\n",
       "0          0.615617          0.053          0.413          0.534   \n",
       "1          0.611942          0.023          0.815          0.162   \n",
       "2          0.608264          0.000          0.728          0.272   \n",
       "3          0.599622          0.000          0.848          0.152   \n",
       "4          0.599248          0.000          0.909          0.091   \n",
       "\n",
       "   sentiment_compound  \n",
       "0              0.9628  \n",
       "1              0.9230  \n",
       "2              0.9565  \n",
       "3              0.7906  \n",
       "4              0.4019  "
      ]
     },
     "execution_count": 17,
     "metadata": {},
     "output_type": "execute_result"
    }
   ],
   "source": [
    "data.head()"
   ]
  },
  {
   "cell_type": "markdown",
   "metadata": {},
   "source": [
    "## PART E"
   ]
  },
  {
   "cell_type": "code",
   "execution_count": 18,
   "metadata": {},
   "outputs": [],
   "source": [
    "recomdat = data.groupby(by = 'product_name').mean()\n",
    "\n",
    "recbestpos = recomdat.sort_values(by = ['sentiment_compound'], axis = 0, ascending = False)[:1]\n",
    "reclowestneg = recomdat.sort_values(by = ['sentiment_pos'], axis = 0, ascending = False)[:1]\n",
    "preferencebeer = recomdat.sort_values(by = ['similarity_score'], axis = 0, ascending = False)[:1]"
   ]
  },
  {
   "cell_type": "code",
   "execution_count": 19,
   "metadata": {},
   "outputs": [
    {
     "data": {
      "text/html": [
       "<div>\n",
       "<style scoped>\n",
       "    .dataframe tbody tr th:only-of-type {\n",
       "        vertical-align: middle;\n",
       "    }\n",
       "\n",
       "    .dataframe tbody tr th {\n",
       "        vertical-align: top;\n",
       "    }\n",
       "\n",
       "    .dataframe thead th {\n",
       "        text-align: right;\n",
       "    }\n",
       "</style>\n",
       "<table border=\"1\" class=\"dataframe\">\n",
       "  <thead>\n",
       "    <tr style=\"text-align: right;\">\n",
       "      <th></th>\n",
       "      <th>similarity_score</th>\n",
       "      <th>sentiment_neg</th>\n",
       "      <th>sentiment_neu</th>\n",
       "      <th>sentiment_pos</th>\n",
       "      <th>sentiment_compound</th>\n",
       "    </tr>\n",
       "    <tr>\n",
       "      <th>product_name</th>\n",
       "      <th></th>\n",
       "      <th></th>\n",
       "      <th></th>\n",
       "      <th></th>\n",
       "      <th></th>\n",
       "    </tr>\n",
       "  </thead>\n",
       "  <tbody>\n",
       "    <tr>\n",
       "      <th>Black &amp; Wild</th>\n",
       "      <td>0.558720</td>\n",
       "      <td>0.006</td>\n",
       "      <td>0.724</td>\n",
       "      <td>0.271</td>\n",
       "      <td>0.9975</td>\n",
       "    </tr>\n",
       "    <tr>\n",
       "      <th>Chemtrailmix</th>\n",
       "      <td>0.557522</td>\n",
       "      <td>0.000</td>\n",
       "      <td>0.547</td>\n",
       "      <td>0.453</td>\n",
       "      <td>0.9480</td>\n",
       "    </tr>\n",
       "    <tr>\n",
       "      <th>Melcher Street (Double Dry-Hopped)</th>\n",
       "      <td>0.597064</td>\n",
       "      <td>0.042</td>\n",
       "      <td>0.807</td>\n",
       "      <td>0.151</td>\n",
       "      <td>0.9525</td>\n",
       "    </tr>\n",
       "  </tbody>\n",
       "</table>\n",
       "</div>"
      ],
      "text/plain": [
       "                                    similarity_score  sentiment_neg  \\\n",
       "product_name                                                          \n",
       "Black & Wild                                0.558720          0.006   \n",
       "Chemtrailmix                                0.557522          0.000   \n",
       "Melcher Street (Double Dry-Hopped)          0.597064          0.042   \n",
       "\n",
       "                                    sentiment_neu  sentiment_pos  \\\n",
       "product_name                                                       \n",
       "Black & Wild                                0.724          0.271   \n",
       "Chemtrailmix                                0.547          0.453   \n",
       "Melcher Street (Double Dry-Hopped)          0.807          0.151   \n",
       "\n",
       "                                    sentiment_compound  \n",
       "product_name                                            \n",
       "Black & Wild                                    0.9975  \n",
       "Chemtrailmix                                    0.9480  \n",
       "Melcher Street (Double Dry-Hopped)              0.9525  "
      ]
     },
     "execution_count": 19,
     "metadata": {},
     "output_type": "execute_result"
    }
   ],
   "source": [
    "Recommended = recbestpos.append(reclowestneg)\n",
    "Recommended = Recommended.append(preferencebeer)\n",
    "Recommended"
   ]
  },
  {
   "cell_type": "markdown",
   "metadata": {},
   "source": [
    "Our recommended beers are the beers with the highest average compund sentiment, the highest average positive sentiment and the highest combined similarity score of the three important attributes. This provides recommendations to try the two best rated beers by compound sentiment and positive sentiment for someone seeking the best tasting beers in this category as well as a reccomendation for the person seeking a beer with the highest score against the predefined attributes that focuses on meeting their preferences for crisp, balanced and robust beer."
   ]
  },
  {
   "cell_type": "markdown",
   "metadata": {},
   "source": [
    "## PART F"
   ]
  },
  {
   "cell_type": "markdown",
   "metadata": {},
   "source": [
    "#### Check top rated beers"
   ]
  },
  {
   "cell_type": "code",
   "execution_count": 20,
   "metadata": {},
   "outputs": [
    {
     "data": {
      "text/plain": [
       "product_name\n",
       "Kentucky Brunch Brand Stout    4.812000\n",
       "Chemtrailmix                   4.811176\n",
       "Barrel-Aged Abraxas            4.796400\n",
       "Name: user_rating, dtype: float64"
      ]
     },
     "execution_count": 20,
     "metadata": {},
     "output_type": "execute_result"
    }
   ],
   "source": [
    "#Calculate average for each beer and show top 3 average scores\n",
    "df.groupby([\"product_name\"])[\"user_rating\"].mean().sort_values(ascending=False)[:3]"
   ]
  },
  {
   "cell_type": "code",
   "execution_count": 42,
   "metadata": {},
   "outputs": [],
   "source": [
    "df[\"similarity_score\"] = (df[\"similarity_crisp\"] + df[\"similarity_bal\"] + df[\"similarity_rob\"]) / 3"
   ]
  },
  {
   "cell_type": "code",
   "execution_count": 47,
   "metadata": {},
   "outputs": [
    {
     "data": {
      "text/plain": [
       "product_name\n",
       "Chemtrailmix                   0.502364\n",
       "Barrel-Aged Abraxas            0.495141\n",
       "Kentucky Brunch Brand Stout    0.476202\n",
       "Name: similarity_score, dtype: float64"
      ]
     },
     "execution_count": 47,
     "metadata": {},
     "output_type": "execute_result"
    }
   ],
   "source": [
    "#create mask for top 3 beers by average score and calc their similarity scores\n",
    "mask = (df[\"product_name\"] == \"Kentucky Brunch Brand Stout\") | (raw[\"product_name\"] == \"Chemtrailmix\") | (raw[\"product_name\"] == \"Barrel-Aged Abraxas\")\n",
    "df[mask].groupby([\"product_name\"])[\"similarity_score\"].mean().sort_values(ascending=False)"
   ]
  },
  {
   "cell_type": "markdown",
   "metadata": {},
   "source": [
    "#### Check if they appear in top 300 reviews"
   ]
  },
  {
   "cell_type": "code",
   "execution_count": 59,
   "metadata": {},
   "outputs": [
    {
     "data": {
      "text/plain": [
       "product_name\n",
       "Chemtrailmix    0.557522\n",
       "Name: similarity_score, dtype: float64"
      ]
     },
     "execution_count": 59,
     "metadata": {},
     "output_type": "execute_result"
    }
   ],
   "source": [
    "mask = data[\"product_name\"] == \"Chemtrailmix\"\n",
    "data[mask].groupby([\"product_name\"])[\"similarity_score\"].mean()"
   ]
  },
  {
   "cell_type": "code",
   "execution_count": 60,
   "metadata": {},
   "outputs": [
    {
     "data": {
      "text/plain": [
       "product_name\n",
       "Barrel-Aged Abraxas    0.582997\n",
       "Name: similarity_score, dtype: float64"
      ]
     },
     "execution_count": 60,
     "metadata": {},
     "output_type": "execute_result"
    }
   ],
   "source": [
    "mask = data[\"product_name\"] == \"Barrel-Aged Abraxas\"\n",
    "data[mask].groupby([\"product_name\"])[\"similarity_score\"].mean()"
   ]
  },
  {
   "cell_type": "code",
   "execution_count": 61,
   "metadata": {},
   "outputs": [
    {
     "data": {
      "text/plain": [
       "Series([], Name: similarity_score, dtype: float64)"
      ]
     },
     "execution_count": 61,
     "metadata": {},
     "output_type": "execute_result"
    }
   ],
   "source": [
    "mask = data[\"product_name\"] == \"Kentucky Brunch Brand Stout\"\n",
    "data[mask].groupby([\"product_name\"])[\"similarity_score\"].mean()"
   ]
  },
  {
   "cell_type": "markdown",
   "metadata": {},
   "source": [
    "#### Compare missing beer with lowest attribute scores of beers in top 300 reviews across the entire scraped set of reviews"
   ]
  },
  {
   "cell_type": "code",
   "execution_count": 62,
   "metadata": {},
   "outputs": [
    {
     "data": {
      "text/html": [
       "<div>\n",
       "<style scoped>\n",
       "    .dataframe tbody tr th:only-of-type {\n",
       "        vertical-align: middle;\n",
       "    }\n",
       "\n",
       "    .dataframe tbody tr th {\n",
       "        vertical-align: top;\n",
       "    }\n",
       "\n",
       "    .dataframe thead th {\n",
       "        text-align: right;\n",
       "    }\n",
       "</style>\n",
       "<table border=\"1\" class=\"dataframe\">\n",
       "  <thead>\n",
       "    <tr style=\"text-align: right;\">\n",
       "      <th></th>\n",
       "      <th>similarity_score</th>\n",
       "      <th>sentiment_neg</th>\n",
       "      <th>sentiment_neu</th>\n",
       "      <th>sentiment_pos</th>\n",
       "      <th>sentiment_compound</th>\n",
       "    </tr>\n",
       "    <tr>\n",
       "      <th>product_name</th>\n",
       "      <th></th>\n",
       "      <th></th>\n",
       "      <th></th>\n",
       "      <th></th>\n",
       "      <th></th>\n",
       "    </tr>\n",
       "  </thead>\n",
       "  <tbody>\n",
       "    <tr>\n",
       "      <th>3rd Anniversary Imperial IPA</th>\n",
       "      <td>0.556869</td>\n",
       "      <td>0.0</td>\n",
       "      <td>0.716</td>\n",
       "      <td>0.284</td>\n",
       "      <td>0.9337</td>\n",
       "    </tr>\n",
       "  </tbody>\n",
       "</table>\n",
       "</div>"
      ],
      "text/plain": [
       "                              similarity_score  sentiment_neg  sentiment_neu  \\\n",
       "product_name                                                                   \n",
       "3rd Anniversary Imperial IPA          0.556869            0.0          0.716   \n",
       "\n",
       "                              sentiment_pos  sentiment_compound  \n",
       "product_name                                                     \n",
       "3rd Anniversary Imperial IPA          0.284              0.9337  "
      ]
     },
     "execution_count": 62,
     "metadata": {},
     "output_type": "execute_result"
    }
   ],
   "source": [
    "#compare with lowest similarity score from above analysis\n",
    "preferencebeer = recomdat.sort_values(by = ['similarity_score'], axis = 0, ascending = True)[:1]\n",
    "preferencebeer"
   ]
  },
  {
   "cell_type": "code",
   "execution_count": 63,
   "metadata": {},
   "outputs": [
    {
     "data": {
      "text/plain": [
       "product_name\n",
       "3rd Anniversary Imperial IPA    0.49047\n",
       "Name: similarity_score, dtype: float64"
      ]
     },
     "execution_count": 63,
     "metadata": {},
     "output_type": "execute_result"
    }
   ],
   "source": [
    "mask = df[\"product_name\"] == \"3rd Anniversary Imperial IPA\"\n",
    "df[mask].groupby([\"product_name\"])[\"similarity_score\"].mean()"
   ]
  },
  {
   "cell_type": "markdown",
   "metadata": {},
   "source": [
    "#### Conclusion"
   ]
  },
  {
   "cell_type": "markdown",
   "metadata": {},
   "source": [
    "Two of the three top rated beers, Chemtrailmix and Barrel-Aged Abraxas appear in the top 300 reviews based on similarity scores. Chemtrailmix is actually one beer recommended in PART E which has the second highest average rating across the scraped data. Therefore these two beers do meet user requirements.\n",
    "\n",
    "Barrel-Aged Abraxas does not meet the user requirements based on it not appearing in the top 300 reviews and having an average similarity score below the lowest average similarity score from the 300 reviews."
   ]
  },
  {
   "cell_type": "code",
   "execution_count": null,
   "metadata": {},
   "outputs": [],
   "source": []
  }
 ],
 "metadata": {
  "kernelspec": {
   "display_name": "Python 3",
   "language": "python",
   "name": "python3"
  },
  "language_info": {
   "codemirror_mode": {
    "name": "ipython",
    "version": 3
   },
   "file_extension": ".py",
   "mimetype": "text/x-python",
   "name": "python",
   "nbconvert_exporter": "python",
   "pygments_lexer": "ipython3",
   "version": "3.7.3"
  }
 },
 "nbformat": 4,
 "nbformat_minor": 2
}
