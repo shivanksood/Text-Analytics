{
 "cells": [
  {
   "cell_type": "code",
   "execution_count": 1,
   "metadata": {},
   "outputs": [
    {
     "name": "stderr",
     "output_type": "stream",
     "text": [
      "[nltk_data] Downloading package wordnet to\n",
      "[nltk_data]     C:\\Users\\geogh\\AppData\\Roaming\\nltk_data...\n",
      "[nltk_data]   Package wordnet is already up-to-date!\n",
      "[nltk_data] Downloading package stopwords to\n",
      "[nltk_data]     C:\\Users\\geogh\\AppData\\Roaming\\nltk_data...\n",
      "[nltk_data]   Package stopwords is already up-to-date!\n",
      "[nltk_data] Downloading package punkt to\n",
      "[nltk_data]     C:\\Users\\geogh\\AppData\\Roaming\\nltk_data...\n",
      "[nltk_data]   Package punkt is already up-to-date!\n"
     ]
    },
    {
     "name": "stdout",
     "output_type": "stream",
     "text": [
      "Populating the interactive namespace from numpy and matplotlib\n"
     ]
    }
   ],
   "source": [
    "import re\n",
    "import nltk\n",
    "from string import punctuation\n",
    "from nltk.tokenize import sent_tokenize, word_tokenize\n",
    "from nltk.corpus import stopwords\n",
    "from nltk import FreqDist\n",
    "from nltk.stem import WordNetLemmatizer\n",
    "from nltk.util import ngrams\n",
    "nltk.download('wordnet')\n",
    "nltk.download('stopwords')\n",
    "nltk.download('punkt')\n",
    "import matplotlib.pyplot as plt\n",
    "%pylab inline\n",
    "import numpy as np\n",
    "import pandas as pd\n",
    "from collections import Counter\n",
    "import itertools"
   ]
  },
  {
   "cell_type": "markdown",
   "metadata": {},
   "source": [
    "### Task B"
   ]
  },
  {
   "cell_type": "code",
   "execution_count": 2,
   "metadata": {},
   "outputs": [
    {
     "data": {
      "text/html": [
       "<div>\n",
       "<style scoped>\n",
       "    .dataframe tbody tr th:only-of-type {\n",
       "        vertical-align: middle;\n",
       "    }\n",
       "\n",
       "    .dataframe tbody tr th {\n",
       "        vertical-align: top;\n",
       "    }\n",
       "\n",
       "    .dataframe thead th {\n",
       "        text-align: right;\n",
       "    }\n",
       "</style>\n",
       "<table border=\"1\" class=\"dataframe\">\n",
       "  <thead>\n",
       "    <tr style=\"text-align: right;\">\n",
       "      <th></th>\n",
       "      <th>product_name</th>\n",
       "      <th>product_review</th>\n",
       "      <th>user_rating</th>\n",
       "    </tr>\n",
       "  </thead>\n",
       "  <tbody>\n",
       "    <tr>\n",
       "      <th>0</th>\n",
       "      <td>Kentucky Brunch Brand Stout</td>\n",
       "      <td>2016 Silver Wax. Aroma has whiskey, maple, tof...</td>\n",
       "      <td>4.80</td>\n",
       "    </tr>\n",
       "    <tr>\n",
       "      <th>1</th>\n",
       "      <td>Kentucky Brunch Brand Stout</td>\n",
       "      <td>The beer pours Pitch Black with a frothy tan h...</td>\n",
       "      <td>4.74</td>\n",
       "    </tr>\n",
       "    <tr>\n",
       "      <th>2</th>\n",
       "      <td>Kentucky Brunch Brand Stout</td>\n",
       "      <td>Probably the smoothest beer I have ever had. S...</td>\n",
       "      <td>4.68</td>\n",
       "    </tr>\n",
       "    <tr>\n",
       "      <th>3</th>\n",
       "      <td>Kentucky Brunch Brand Stout</td>\n",
       "      <td>Dark black, very thick, a little bit of tan he...</td>\n",
       "      <td>5.00</td>\n",
       "    </tr>\n",
       "    <tr>\n",
       "      <th>4</th>\n",
       "      <td>Kentucky Brunch Brand Stout</td>\n",
       "      <td>Poured black as ink with thin ruby edges at 58...</td>\n",
       "      <td>4.97</td>\n",
       "    </tr>\n",
       "  </tbody>\n",
       "</table>\n",
       "</div>"
      ],
      "text/plain": [
       "                  product_name  \\\n",
       "0  Kentucky Brunch Brand Stout   \n",
       "1  Kentucky Brunch Brand Stout   \n",
       "2  Kentucky Brunch Brand Stout   \n",
       "3  Kentucky Brunch Brand Stout   \n",
       "4  Kentucky Brunch Brand Stout   \n",
       "\n",
       "                                      product_review  user_rating  \n",
       "0  2016 Silver Wax. Aroma has whiskey, maple, tof...         4.80  \n",
       "1  The beer pours Pitch Black with a frothy tan h...         4.74  \n",
       "2  Probably the smoothest beer I have ever had. S...         4.68  \n",
       "3  Dark black, very thick, a little bit of tan he...         5.00  \n",
       "4  Poured black as ink with thin ruby edges at 58...         4.97  "
      ]
     },
     "execution_count": 2,
     "metadata": {},
     "output_type": "execute_result"
    }
   ],
   "source": [
    "df = pd.read_csv(\"reviews_text.csv\")\n",
    "df = df.drop([\"Unnamed: 0\"], axis=1)\n",
    "df.head()"
   ]
  },
  {
   "cell_type": "code",
   "execution_count": 3,
   "metadata": {},
   "outputs": [],
   "source": [
    "# DATA CLEANSING\n",
    "\n",
    "def remove_space(s):\n",
    "    return s.replace(\"\\n\",\" \")\n",
    "\n",
    "stop_words = set(stopwords.words('english'))\n",
    "\n",
    "def removepunc(item):\n",
    "    for p in punctuation:\n",
    "        item = item.lstrip().replace(p,'')\n",
    "    return item\n",
    "\n",
    "def lowerize(l):\n",
    "    s=[]\n",
    "    for i in l:\n",
    "        s.append(i.lower())\n",
    "    return s\n",
    "\n",
    "stop_words = set(stopwords.words('english'))\n",
    "\n",
    "def remove_stopwords(s):\n",
    "    return [w for w in s if not w in stop_words] \n",
    "\n",
    "def lematize(l):\n",
    "    s=[]\n",
    "    for i in l:\n",
    "        s.append(WordNetLemmatizer().lemmatize(i))\n",
    "    return s"
   ]
  },
  {
   "cell_type": "code",
   "execution_count": 4,
   "metadata": {},
   "outputs": [
    {
     "data": {
      "text/html": [
       "<div>\n",
       "<style scoped>\n",
       "    .dataframe tbody tr th:only-of-type {\n",
       "        vertical-align: middle;\n",
       "    }\n",
       "\n",
       "    .dataframe tbody tr th {\n",
       "        vertical-align: top;\n",
       "    }\n",
       "\n",
       "    .dataframe thead th {\n",
       "        text-align: right;\n",
       "    }\n",
       "</style>\n",
       "<table border=\"1\" class=\"dataframe\">\n",
       "  <thead>\n",
       "    <tr style=\"text-align: right;\">\n",
       "      <th></th>\n",
       "      <th>product_name</th>\n",
       "      <th>product_review</th>\n",
       "      <th>user_rating</th>\n",
       "      <th>prod_review_words</th>\n",
       "    </tr>\n",
       "  </thead>\n",
       "  <tbody>\n",
       "    <tr>\n",
       "      <th>0</th>\n",
       "      <td>Kentucky Brunch Brand Stout</td>\n",
       "      <td>2016 Silver Wax Aroma has whiskey maple toffee...</td>\n",
       "      <td>4.80</td>\n",
       "      <td>[wax, whiskey, aroma, aftertaste, toffee, ha, ...</td>\n",
       "    </tr>\n",
       "    <tr>\n",
       "      <th>1</th>\n",
       "      <td>Kentucky Brunch Brand Stout</td>\n",
       "      <td>The beer pours Pitch Black with a frothy tan h...</td>\n",
       "      <td>4.74</td>\n",
       "      <td>[brûlée, smooth, smell, tan, head, coffee, fee...</td>\n",
       "    </tr>\n",
       "    <tr>\n",
       "      <th>2</th>\n",
       "      <td>Kentucky Brunch Brand Stout</td>\n",
       "      <td>Probably the smoothest beer I have ever had Sm...</td>\n",
       "      <td>4.68</td>\n",
       "      <td>[mostly, fig, would, reserva, flavor, par, sui...</td>\n",
       "    </tr>\n",
       "    <tr>\n",
       "      <th>3</th>\n",
       "      <td>Kentucky Brunch Brand Stout</td>\n",
       "      <td>Dark black very thick a little bit of tan head...</td>\n",
       "      <td>5.00</td>\n",
       "      <td>[back, either, best, jump, smell, thick, littl...</td>\n",
       "    </tr>\n",
       "    <tr>\n",
       "      <th>4</th>\n",
       "      <td>Kentucky Brunch Brand Stout</td>\n",
       "      <td>Poured black as ink with thin ruby edges at 58...</td>\n",
       "      <td>4.97</td>\n",
       "      <td>[strong, medium, retention, roast, edge, fast,...</td>\n",
       "    </tr>\n",
       "  </tbody>\n",
       "</table>\n",
       "</div>"
      ],
      "text/plain": [
       "                  product_name  \\\n",
       "0  Kentucky Brunch Brand Stout   \n",
       "1  Kentucky Brunch Brand Stout   \n",
       "2  Kentucky Brunch Brand Stout   \n",
       "3  Kentucky Brunch Brand Stout   \n",
       "4  Kentucky Brunch Brand Stout   \n",
       "\n",
       "                                      product_review  user_rating  \\\n",
       "0  2016 Silver Wax Aroma has whiskey maple toffee...         4.80   \n",
       "1  The beer pours Pitch Black with a frothy tan h...         4.74   \n",
       "2  Probably the smoothest beer I have ever had Sm...         4.68   \n",
       "3  Dark black very thick a little bit of tan head...         5.00   \n",
       "4  Poured black as ink with thin ruby edges at 58...         4.97   \n",
       "\n",
       "                                   prod_review_words  \n",
       "0  [wax, whiskey, aroma, aftertaste, toffee, ha, ...  \n",
       "1  [brûlée, smooth, smell, tan, head, coffee, fee...  \n",
       "2  [mostly, fig, would, reserva, flavor, par, sui...  \n",
       "3  [back, either, best, jump, smell, thick, littl...  \n",
       "4  [strong, medium, retention, roast, edge, fast,...  "
      ]
     },
     "execution_count": 4,
     "metadata": {},
     "output_type": "execute_result"
    }
   ],
   "source": [
    "#apply data cleaning functions to columns\n",
    "df[\"product_review\"] = df[\"product_review\"].apply(remove_space).apply(removepunc)\n",
    "df['prod_review_words'] = df['product_review'].apply(word_tokenize).apply(lowerize).apply(lematize).apply(remove_stopwords\n",
    "                            ).apply(set).apply(list)\n",
    "df.head()"
   ]
  },
  {
   "cell_type": "code",
   "execution_count": 5,
   "metadata": {},
   "outputs": [],
   "source": [
    "#select three beer attributes and define terms\n",
    "robust = [\"rich\", \"bodied\", \"robust\"]\n",
    "aggressive = [\"bold\", \"assertive\", \"strong\", \"heavy\", \"tenacious\", \"forceful\"]\n",
    "fruity = [\"fruity\", \"fruit\", \"blackberry\", \"cherry\", \"raspberry\", \"orange\", \"orangey\", \"apricot\", \"apricoty\", \n",
    "          \"lemon\", \"lemony\", \"watermelon\", \"watermelony\", \"peach\", \"blueberry\", \"grapefruit\", \"juice\", \"tangerine\",\n",
    "         \"lime\", \"berry\", \"apple\"]"
   ]
  },
  {
   "cell_type": "code",
   "execution_count": 6,
   "metadata": {},
   "outputs": [
    {
     "name": "stdout",
     "output_type": "stream",
     "text": [
      "Robust:  ['rich', 657, 'bodied', 584, 'robust', 100]\n",
      "Aggressive:  ['bold', 129, 'assertive', 25, 'strong', 468, 'heavy', 396, 'tenacious', 0, 'forceful', 1]\n",
      "Fruity:  ['fruity', 418, 'fruit', 1433, 'blackberry', 39, 'cherry', 368, 'raspberry', 216, 'orange', 1155, 'orangey', 8, 'apricot', 254, 'apricoty', 0, 'lemon', 446, 'lemony', 51, 'watermelon', 9, 'watermelony', 0, 'peach', 424, 'blueberry', 81, 'grapefruit', 623, 'juice', 411, 'tangerine', 274, 'lime', 90, 'berry', 132, 'apple', 236]\n"
     ]
    }
   ],
   "source": [
    "#First check words are appearing in product reviews\n",
    "words=[]\n",
    "for i in df['prod_review_words']:\n",
    "    words.append(i)\n",
    "merged_list = list(itertools.chain.from_iterable(words))\n",
    "counts = Counter(merged_list)\n",
    "\n",
    "#check words for robust are appearing in product reviews\n",
    "l = []\n",
    "for i in robust:\n",
    "    l.append(i)\n",
    "    l.append(counts[i])\n",
    "print(\"Robust: \", l)\n",
    "\n",
    "#check words for aggressive are appearing in product reviews\n",
    "l = []\n",
    "for i in aggressive:\n",
    "    l.append(i)\n",
    "    l.append(counts[i])\n",
    "print(\"Aggressive: \", l)\n",
    "\n",
    "#check words for fruity are appearing in product reviews\n",
    "l = []\n",
    "for i in fruity:\n",
    "    l.append(i)\n",
    "    l.append(counts[i])\n",
    "print(\"Fruity: \", l)"
   ]
  },
  {
   "cell_type": "markdown",
   "metadata": {},
   "source": [
    "### Task C"
   ]
  },
  {
   "cell_type": "code",
   "execution_count": null,
   "metadata": {},
   "outputs": [],
   "source": []
  },
  {
   "cell_type": "markdown",
   "metadata": {},
   "source": [
    "### Task D"
   ]
  },
  {
   "cell_type": "code",
   "execution_count": null,
   "metadata": {},
   "outputs": [],
   "source": []
  },
  {
   "cell_type": "markdown",
   "metadata": {},
   "source": [
    "### Task E"
   ]
  },
  {
   "cell_type": "code",
   "execution_count": null,
   "metadata": {},
   "outputs": [],
   "source": []
  },
  {
   "cell_type": "markdown",
   "metadata": {},
   "source": [
    "### Task F"
   ]
  },
  {
   "cell_type": "code",
   "execution_count": 7,
   "metadata": {},
   "outputs": [
    {
     "data": {
      "text/plain": [
       "product_name\n",
       "Kentucky Brunch Brand Stout    4.812000\n",
       "Chemtrailmix                   4.811176\n",
       "Barrel-Aged Abraxas            4.796400\n",
       "Name: user_rating, dtype: float64"
      ]
     },
     "execution_count": 7,
     "metadata": {},
     "output_type": "execute_result"
    }
   ],
   "source": [
    "#Calculate average for each brand name\n",
    "df.groupby([\"product_name\"])[\"user_rating\"].mean().sort_values(ascending=False)[:3]"
   ]
  },
  {
   "cell_type": "code",
   "execution_count": null,
   "metadata": {},
   "outputs": [],
   "source": []
  }
 ],
 "metadata": {
  "kernelspec": {
   "display_name": "Python 3",
   "language": "python",
   "name": "python3"
  },
  "language_info": {
   "codemirror_mode": {
    "name": "ipython",
    "version": 3
   },
   "file_extension": ".py",
   "mimetype": "text/x-python",
   "name": "python",
   "nbconvert_exporter": "python",
   "pygments_lexer": "ipython3",
   "version": "3.7.3"
  }
 },
 "nbformat": 4,
 "nbformat_minor": 2
}
