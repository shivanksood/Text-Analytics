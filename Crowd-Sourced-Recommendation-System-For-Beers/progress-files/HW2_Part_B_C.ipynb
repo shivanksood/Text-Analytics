{
 "cells": [
  {
   "cell_type": "markdown",
   "metadata": {},
   "source": [
    "Picking up from Sebastian's scraped code output."
   ]
  },
  {
   "cell_type": "code",
   "execution_count": 1,
   "metadata": {},
   "outputs": [],
   "source": [
    "# Library Imports\n",
    "import spacy\n",
    "import en_core_web_lg\n",
    "import pandas as pd\n",
    "import nltk\n",
    "from nltk.corpus import stopwords\n",
    "from string import punctuation\n",
    "from nltk.tokenize import sent_tokenize, word_tokenize\n",
    "from nltk.stem import WordNetLemmatizer\n",
    "nlp = en_core_web_lg.load() #just import once or will take some time"
   ]
  },
  {
   "cell_type": "code",
   "execution_count": 2,
   "metadata": {},
   "outputs": [
    {
     "data": {
      "text/plain": [
       "Whats up , MSBA rocks!!!>cld??."
      ]
     },
     "execution_count": 2,
     "metadata": {},
     "output_type": "execute_result"
    }
   ],
   "source": [
    "doc = nlp(\"Whats up , MSBA rocks!!!>cld??.\")\n",
    "doc"
   ]
  },
  {
   "cell_type": "code",
   "execution_count": 3,
   "metadata": {},
   "outputs": [
    {
     "data": {
      "text/html": [
       "<div>\n",
       "<style scoped>\n",
       "    .dataframe tbody tr th:only-of-type {\n",
       "        vertical-align: middle;\n",
       "    }\n",
       "\n",
       "    .dataframe tbody tr th {\n",
       "        vertical-align: top;\n",
       "    }\n",
       "\n",
       "    .dataframe thead th {\n",
       "        text-align: right;\n",
       "    }\n",
       "</style>\n",
       "<table border=\"1\" class=\"dataframe\">\n",
       "  <thead>\n",
       "    <tr style=\"text-align: right;\">\n",
       "      <th></th>\n",
       "      <th>product_name</th>\n",
       "      <th>product_review</th>\n",
       "      <th>user_rating</th>\n",
       "    </tr>\n",
       "  </thead>\n",
       "  <tbody>\n",
       "    <tr>\n",
       "      <td>0</td>\n",
       "      <td>Kentucky Brunch Brand Stout</td>\n",
       "      <td>2016 Silver Wax. Aroma has whiskey, maple, tof...</td>\n",
       "      <td>4.80</td>\n",
       "    </tr>\n",
       "    <tr>\n",
       "      <td>1</td>\n",
       "      <td>Kentucky Brunch Brand Stout</td>\n",
       "      <td>The beer pours Pitch Black with a frothy tan h...</td>\n",
       "      <td>4.74</td>\n",
       "    </tr>\n",
       "    <tr>\n",
       "      <td>2</td>\n",
       "      <td>Kentucky Brunch Brand Stout</td>\n",
       "      <td>Probably the smoothest beer I have ever had. S...</td>\n",
       "      <td>4.68</td>\n",
       "    </tr>\n",
       "    <tr>\n",
       "      <td>3</td>\n",
       "      <td>Kentucky Brunch Brand Stout</td>\n",
       "      <td>Dark black, very thick, a little bit of tan he...</td>\n",
       "      <td>5.00</td>\n",
       "    </tr>\n",
       "    <tr>\n",
       "      <td>4</td>\n",
       "      <td>Kentucky Brunch Brand Stout</td>\n",
       "      <td>Poured black as ink with thin ruby edges at 58...</td>\n",
       "      <td>4.97</td>\n",
       "    </tr>\n",
       "  </tbody>\n",
       "</table>\n",
       "</div>"
      ],
      "text/plain": [
       "                  product_name  \\\n",
       "0  Kentucky Brunch Brand Stout   \n",
       "1  Kentucky Brunch Brand Stout   \n",
       "2  Kentucky Brunch Brand Stout   \n",
       "3  Kentucky Brunch Brand Stout   \n",
       "4  Kentucky Brunch Brand Stout   \n",
       "\n",
       "                                      product_review  user_rating  \n",
       "0  2016 Silver Wax. Aroma has whiskey, maple, tof...         4.80  \n",
       "1  The beer pours Pitch Black with a frothy tan h...         4.74  \n",
       "2  Probably the smoothest beer I have ever had. S...         4.68  \n",
       "3  Dark black, very thick, a little bit of tan he...         5.00  \n",
       "4  Poured black as ink with thin ruby edges at 58...         4.97  "
      ]
     },
     "execution_count": 3,
     "metadata": {},
     "output_type": "execute_result"
    }
   ],
   "source": [
    "raw = pd.read_csv(\"https://raw.githubusercontent.com/coldonline/TextAnalytics/master/HW2/reviews_text.csv\")\n",
    "raw.drop(['Unnamed: 0'], axis=1,inplace=True)\n",
    "raw.to_csv(\"raw_scrape.csv\")\n",
    "raw.head()"
   ]
  },
  {
   "cell_type": "code",
   "execution_count": 4,
   "metadata": {},
   "outputs": [],
   "source": [
    "# DATA CLEANSING FUNCTIONS\n",
    "\n",
    "def remove_space(s):\n",
    "    return s.replace(\"\\n\",\" \")\n",
    "\n",
    "def removepunc(item):\n",
    "    for p in punctuation:\n",
    "        item = item.lstrip().replace(p,'')\n",
    "    return item\n",
    "\n",
    "def lowerize(x):\n",
    "    return x.lower()\n",
    "\n",
    "stop_words = set(stopwords.words('english'))\n",
    "\n",
    "def remove_stopwords(s):\n",
    "    return [w for w in s if not w in stop_words] \n",
    "\n",
    "def lematize(l):\n",
    "    s=[]\n",
    "    for i in l:\n",
    "        s.append(wordnet_lemmatizer.lemmatize(i))\n",
    "    return s"
   ]
  },
  {
   "cell_type": "code",
   "execution_count": 5,
   "metadata": {},
   "outputs": [
    {
     "name": "stdout",
     "output_type": "stream",
     "text": [
      "(6214, 3)\n",
      "(6214, 3)\n"
     ]
    },
    {
     "data": {
      "text/html": [
       "<div>\n",
       "<style scoped>\n",
       "    .dataframe tbody tr th:only-of-type {\n",
       "        vertical-align: middle;\n",
       "    }\n",
       "\n",
       "    .dataframe tbody tr th {\n",
       "        vertical-align: top;\n",
       "    }\n",
       "\n",
       "    .dataframe thead th {\n",
       "        text-align: right;\n",
       "    }\n",
       "</style>\n",
       "<table border=\"1\" class=\"dataframe\">\n",
       "  <thead>\n",
       "    <tr style=\"text-align: right;\">\n",
       "      <th></th>\n",
       "      <th>product_name</th>\n",
       "      <th>product_review</th>\n",
       "      <th>user_rating</th>\n",
       "      <th>review_words</th>\n",
       "    </tr>\n",
       "  </thead>\n",
       "  <tbody>\n",
       "    <tr>\n",
       "      <td>0</td>\n",
       "      <td>Kentucky Brunch Brand Stout</td>\n",
       "      <td>2016 silver wax aroma has whiskey maple toffee...</td>\n",
       "      <td>4.80</td>\n",
       "      <td>[silver, whiskey, taste, aftertaste, maple, 20...</td>\n",
       "    </tr>\n",
       "    <tr>\n",
       "      <td>1</td>\n",
       "      <td>Kentucky Brunch Brand Stout</td>\n",
       "      <td>the beer pours pitch black with a frothy tan h...</td>\n",
       "      <td>4.74</td>\n",
       "      <td>[smells, bottle, tan, bourbon, creams, frothy,...</td>\n",
       "    </tr>\n",
       "    <tr>\n",
       "      <td>2</td>\n",
       "      <td>Kentucky Brunch Brand Stout</td>\n",
       "      <td>probably the smoothest beer i have ever had sm...</td>\n",
       "      <td>4.68</td>\n",
       "      <td>[smoothest, taste, alcohol, smelled, bourbon, ...</td>\n",
       "    </tr>\n",
       "    <tr>\n",
       "      <td>3</td>\n",
       "      <td>Kentucky Brunch Brand Stout</td>\n",
       "      <td>dark black very thick a little bit of tan head...</td>\n",
       "      <td>5.00</td>\n",
       "      <td>[prepared, smells, chocolate, tan, fully, alco...</td>\n",
       "    </tr>\n",
       "    <tr>\n",
       "      <td>4</td>\n",
       "      <td>Kentucky Brunch Brand Stout</td>\n",
       "      <td>poured black as ink with thin ruby edges at 58...</td>\n",
       "      <td>4.97</td>\n",
       "      <td>[retention, complimenting, 58, maple, awesome,...</td>\n",
       "    </tr>\n",
       "  </tbody>\n",
       "</table>\n",
       "</div>"
      ],
      "text/plain": [
       "                  product_name  \\\n",
       "0  Kentucky Brunch Brand Stout   \n",
       "1  Kentucky Brunch Brand Stout   \n",
       "2  Kentucky Brunch Brand Stout   \n",
       "3  Kentucky Brunch Brand Stout   \n",
       "4  Kentucky Brunch Brand Stout   \n",
       "\n",
       "                                      product_review  user_rating  \\\n",
       "0  2016 silver wax aroma has whiskey maple toffee...         4.80   \n",
       "1  the beer pours pitch black with a frothy tan h...         4.74   \n",
       "2  probably the smoothest beer i have ever had sm...         4.68   \n",
       "3  dark black very thick a little bit of tan head...         5.00   \n",
       "4  poured black as ink with thin ruby edges at 58...         4.97   \n",
       "\n",
       "                                        review_words  \n",
       "0  [silver, whiskey, taste, aftertaste, maple, 20...  \n",
       "1  [smells, bottle, tan, bourbon, creams, frothy,...  \n",
       "2  [smoothest, taste, alcohol, smelled, bourbon, ...  \n",
       "3  [prepared, smells, chocolate, tan, fully, alco...  \n",
       "4  [retention, complimenting, 58, maple, awesome,...  "
      ]
     },
     "execution_count": 5,
     "metadata": {},
     "output_type": "execute_result"
    }
   ],
   "source": [
    "data = raw.copy()\n",
    "print(data.shape)\n",
    "\n",
    "data = data.dropna()\n",
    "print(data.shape) #finding if there is any major loss due to this\n",
    "\n",
    "#Cleaning reviews for calculating word freq\n",
    "data['product_review'] = data['product_review'].apply(remove_space).apply(removepunc).apply(lowerize) \n",
    "wordnet_lemmatizer = WordNetLemmatizer()\n",
    "data['review_words'] = data['product_review'].str.split().apply(set).apply(list).apply(remove_stopwords)\n",
    "data.head()"
   ]
  },
  {
   "cell_type": "code",
   "execution_count": 6,
   "metadata": {},
   "outputs": [],
   "source": [
    "word_bag = []\n",
    "for i in range(data.shape[0]):\n",
    "    word_bag += data['review_words'][i]\n",
    "\n",
    "#word_bag\n",
    "\n",
    "word_freq = nltk.FreqDist(word_bag)"
   ]
  },
  {
   "cell_type": "code",
   "execution_count": 7,
   "metadata": {},
   "outputs": [
    {
     "data": {
      "text/plain": [
       "23894"
      ]
     },
     "execution_count": 7,
     "metadata": {},
     "output_type": "execute_result"
    }
   ],
   "source": [
    "len(word_freq) # number of words"
   ]
  },
  {
   "cell_type": "code",
   "execution_count": 17,
   "metadata": {},
   "outputs": [
    {
     "data": {
      "text/html": [
       "<div>\n",
       "<style scoped>\n",
       "    .dataframe tbody tr th:only-of-type {\n",
       "        vertical-align: middle;\n",
       "    }\n",
       "\n",
       "    .dataframe tbody tr th {\n",
       "        vertical-align: top;\n",
       "    }\n",
       "\n",
       "    .dataframe thead th {\n",
       "        text-align: right;\n",
       "    }\n",
       "</style>\n",
       "<table border=\"1\" class=\"dataframe\">\n",
       "  <thead>\n",
       "    <tr style=\"text-align: right;\">\n",
       "      <th></th>\n",
       "      <th>Word</th>\n",
       "      <th>Frequency</th>\n",
       "    </tr>\n",
       "  </thead>\n",
       "  <tbody>\n",
       "    <tr>\n",
       "      <td>0</td>\n",
       "      <td>head</td>\n",
       "      <td>3207</td>\n",
       "    </tr>\n",
       "    <tr>\n",
       "      <td>1</td>\n",
       "      <td>beer</td>\n",
       "      <td>2748</td>\n",
       "    </tr>\n",
       "    <tr>\n",
       "      <td>2</td>\n",
       "      <td>taste</td>\n",
       "      <td>2097</td>\n",
       "    </tr>\n",
       "    <tr>\n",
       "      <td>3</td>\n",
       "      <td>sweet</td>\n",
       "      <td>1624</td>\n",
       "    </tr>\n",
       "    <tr>\n",
       "      <td>4</td>\n",
       "      <td>dark</td>\n",
       "      <td>1591</td>\n",
       "    </tr>\n",
       "  </tbody>\n",
       "</table>\n",
       "</div>"
      ],
      "text/plain": [
       "    Word  Frequency\n",
       "0   head       3207\n",
       "1   beer       2748\n",
       "2  taste       2097\n",
       "3  sweet       1624\n",
       "4   dark       1591"
      ]
     },
     "execution_count": 17,
     "metadata": {},
     "output_type": "execute_result"
    }
   ],
   "source": [
    "rslt = pd.DataFrame(word_freq.most_common(22337),              \n",
    "                    columns=['Word', 'Frequency'])\n",
    "rslt.head()\n",
    "rslt.to_csv(\"beer_review_wordcount.csv\")\n",
    "#some words like 'balanced', 'crisp' , 'robust' seem to be mixing with other words in the file, but that doesn't bother us \n",
    "#since we care only about existence than perfect counts"
   ]
  },
  {
   "cell_type": "markdown",
   "metadata": {},
   "source": [
    "# PART C"
   ]
  },
  {
   "cell_type": "code",
   "execution_count": 8,
   "metadata": {},
   "outputs": [],
   "source": [
    "# CHOOSING WORDS 'balanced' , 'crisp' , 'robust' they seem pretty prevelant in the data\n",
    "\n",
    "#spacy implementation\n",
    "\n",
    "\n",
    "def process_text(text):\n",
    "    doc = nlp(text.lower())\n",
    "    result = []\n",
    "    for token in doc:\n",
    "        if token.text in nlp.Defaults.stop_words:\n",
    "            continue\n",
    "        if token.is_punct:\n",
    "            continue\n",
    "#         if token.lemma_ == '-PRON-'\n",
    "#             continue\n",
    "        result.append(token.lemma_)\n",
    "    return \" \".join(result)\n",
    "\n",
    "def calculate_similarity(text1, text2):\n",
    "    base = nlp(process_text(text1))\n",
    "    compare = nlp(process_text(text2))\n",
    "    return base.similarity(compare)\n"
   ]
  },
  {
   "cell_type": "code",
   "execution_count": null,
   "metadata": {},
   "outputs": [],
   "source": [
    "# Not the cleanest piece of code, but can clean similarity calculation with above function later\n",
    "# This chunk might take some time\n",
    "data['similarity_crisp'] = 0\n",
    "data['similarity_bal'] = 0\n",
    "data['similarity_rob'] = 0\n",
    "\n",
    "for i in range(data.shape[0]):\n",
    "    data.loc[i,'similarity_crisp'] = nlp(process_text(data.product_review[i])).similarity(nlp(\"crisp\"))\n",
    "    data.loc[i,'similarity_bal'] = nlp(process_text(data.product_review[i])).similarity(nlp(\"balanced\"))\n",
    "    data.loc[i,'similarity_rob'] = nlp(process_text(data.product_review[i])).similarity(nlp(\"robust\"))\n",
    "data.head()"
   ]
  },
  {
   "cell_type": "code",
   "execution_count": 42,
   "metadata": {},
   "outputs": [],
   "source": [
    "data[['similarity_crisp', 'similarity_bal','similarity_rob']].mean(axis=1)\n",
    "data.drop(['review_words'], axis=1, inplace=True)"
   ]
  },
  {
   "cell_type": "code",
   "execution_count": 43,
   "metadata": {},
   "outputs": [],
   "source": [
    "data.to_csv('output_partC.csv')"
   ]
  }
 ],
 "metadata": {
  "kernelspec": {
   "display_name": "Python 3",
   "language": "python",
   "name": "python3"
  },
  "language_info": {
   "codemirror_mode": {
    "name": "ipython",
    "version": 3
   },
   "file_extension": ".py",
   "mimetype": "text/x-python",
   "name": "python",
   "nbconvert_exporter": "python",
   "pygments_lexer": "ipython3",
   "version": "3.7.4"
  }
 },
 "nbformat": 4,
 "nbformat_minor": 2
}
