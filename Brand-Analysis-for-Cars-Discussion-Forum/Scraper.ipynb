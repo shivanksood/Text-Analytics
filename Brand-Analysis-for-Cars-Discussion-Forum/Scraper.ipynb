{
 "cells": [
  {
   "cell_type": "markdown",
   "metadata": {
    "colab_type": "text",
    "id": "view-in-github"
   },
   "source": [
    "<a href=\"https://colab.research.google.com/github/coldonline/TextAnalytics/blob/master/Scraper.ipynb\" target=\"_parent\"><img src=\"https://colab.research.google.com/assets/colab-badge.svg\" alt=\"Open In Colab\"/></a>"
   ]
  },
  {
   "cell_type": "code",
   "execution_count": 2,
   "metadata": {
    "colab": {
     "base_uri": "https://localhost:8080/",
     "height": 153
<<<<<<< HEAD
    },
    "colab_type": "code",
    "id": "4txfLDJn7rTU",
    "outputId": "387880aa-d902-4751-e96d-e056ab5012fb"
   },
   "outputs": [
    {
     "name": "stdout",
     "output_type": "stream",
     "text": [
      "Requirement already satisfied: selenium in c:\\users\\sebas\\anaconda3\\envs\\ml\\lib\\site-packages (3.141.0)\n",
      "Requirement already satisfied: urllib3 in c:\\users\\sebas\\anaconda3\\envs\\ml\\lib\\site-packages (from selenium) (1.24.2)\n"
     ]
=======
>>>>>>> ec7aaefe08929ad716fced7b33e3dc2656c1a4be
    },
    "colab_type": "code",
    "id": "4txfLDJn7rTU",
    "outputId": "387880aa-d902-4751-e96d-e056ab5012fb"
   },
   "outputs": [
    {
<<<<<<< HEAD
     "name": "stderr",
     "output_type": "stream",
     "text": [
      "'apt' is not recognized as an internal or external command,\n",
      "operable program or batch file.\n",
      "'cp' is not recognized as an internal or external command,\n",
      "operable program or batch file.\n"
=======
     "name": "stdout",
     "output_type": "stream",
     "text": [
      "Requirement already satisfied: selenium in /usr/local/lib/python3.6/dist-packages (3.141.0)\n",
      "Requirement already satisfied: urllib3 in /usr/local/lib/python3.6/dist-packages (from selenium) (1.24.3)\n",
      "Reading package lists...\n",
      "Building dependency tree...\n",
      "Reading state information...\n",
      "chromium-chromedriver is already the newest version (77.0.3865.90-0ubuntu0.18.04.1).\n",
      "0 upgraded, 0 newly installed, 0 to remove and 28 not upgraded.\n",
      "cp: '/usr/lib/chromium-browser/chromedriver' and '/usr/bin/chromedriver' are the same file\n"
>>>>>>> ec7aaefe08929ad716fced7b33e3dc2656c1a4be
     ]
    }
   ],
   "source": [
    "# Use this code if using Colab to run Selenium\n",
    "\n",
    "# Make sure to go to Runtime -> Change runtime type and select Python 3 as runtime type and GPU as hardware accelerator\n",
    "\n",
    "# !kill -9 -1 # Use this line to delete this VM and start a new one. \n",
    "# The above line deletes all files and folders from the current VM and allocates a new one.\n",
    "\n",
    "!pip install selenium\n",
    "# !apt-get -q update # to update ubuntu to correctly run apt install\n",
    "!apt install -yq chromium-chromedriver\n",
    "!cp /usr/lib/chromium-browser/chromedriver /usr/bin\n",
    "\n",
    "import sys\n",
    "import pandas as pd\n",
<<<<<<< HEAD
    "#sys.path.insert(0,'/usr/lib/chromium-browser/chromedriver')\n",
    "sys.path.insert(0,'C:/Users/sebas/Downloads/chromedriver')\n",
=======
    "sys.path.insert(0,'/usr/lib/chromium-browser/chromedriver')\n",
>>>>>>> ec7aaefe08929ad716fced7b33e3dc2656c1a4be
    "from selenium import webdriver\n",
    "chrome_options = webdriver.ChromeOptions()\n",
    "chrome_options.add_argument('--headless')\n",
    "chrome_options.add_argument('--no-sandbox')\n",
    "chrome_options.add_argument('--disable-dev-shm-usage')"
   ]
  },
  {
   "cell_type": "code",
<<<<<<< HEAD
   "execution_count": 19,
=======
   "execution_count": 0,
>>>>>>> ec7aaefe08929ad716fced7b33e3dc2656c1a4be
   "metadata": {
    "colab": {},
    "colab_type": "code",
    "id": "3Fv1YqHo8r3v"
   },
   "outputs": [],
   "source": [
<<<<<<< HEAD
    "#driver = webdriver.Chrome('chromedriver', options=chrome_options)\n",
    "driver = webdriver.Chrome(executable_path='C:/Users/sebas/Downloads/chromedriver', options=chrome_options)\n",
    "#driver= webdriver.Chrome()"
=======
    "driver = webdriver.Chrome('chromedriver', options=chrome_options)"
>>>>>>> ec7aaefe08929ad716fced7b33e3dc2656c1a4be
   ]
  },
  {
   "cell_type": "code",
<<<<<<< HEAD
   "execution_count": 20,
=======
   "execution_count": 27,
>>>>>>> ec7aaefe08929ad716fced7b33e3dc2656c1a4be
   "metadata": {
    "colab": {
     "base_uri": "https://localhost:8080/",
     "height": 1000
    },
    "colab_type": "code",
    "id": "cAKM40cM-I3k",
    "outputId": "551727a0-dad5-442f-88e8-625e0147f652"
   },
   "outputs": [
    {
     "name": "stdout",
     "output_type": "stream",
     "text": [
<<<<<<< HEAD
      "page 1860 ready\n",
=======
>>>>>>> ec7aaefe08929ad716fced7b33e3dc2656c1a4be
      "page 1861 ready\n",
      "page 1862 ready\n",
      "page 1863 ready\n",
      "page 1864 ready\n",
      "page 1865 ready\n",
      "page 1866 ready\n",
      "page 1867 ready\n",
      "page 1868 ready\n",
      "page 1869 ready\n",
      "page 1870 ready\n",
      "page 1871 ready\n",
      "page 1872 ready\n",
      "page 1873 ready\n",
      "page 1874 ready\n",
      "page 1875 ready\n",
      "page 1876 ready\n",
      "page 1877 ready\n",
      "page 1878 ready\n",
      "page 1879 ready\n",
      "page 1880 ready\n",
      "page 1881 ready\n",
      "page 1882 ready\n",
      "page 1883 ready\n",
      "page 1884 ready\n",
      "page 1885 ready\n",
      "page 1886 ready\n",
      "page 1887 ready\n",
      "page 1888 ready\n",
      "page 1889 ready\n",
      "page 1890 ready\n",
      "page 1891 ready\n",
      "page 1892 ready\n",
      "page 1893 ready\n",
      "page 1894 ready\n",
      "page 1895 ready\n",
      "page 1896 ready\n",
      "page 1897 ready\n",
      "page 1898 ready\n",
      "page 1899 ready\n",
      "page 1900 ready\n",
      "page 1901 ready\n",
      "page 1902 ready\n",
      "page 1903 ready\n",
      "page 1904 ready\n",
      "page 1905 ready\n",
      "page 1906 ready\n",
      "page 1907 ready\n",
      "page 1908 ready\n",
      "page 1909 ready\n",
      "page 1910 ready\n",
      "page 1911 ready\n",
      "page 1912 ready\n",
      "page 1913 ready\n",
      "page 1914 ready\n",
      "page 1915 ready\n",
      "page 1916 ready\n",
      "page 1917 ready\n",
      "page 1918 ready\n",
      "page 1919 ready\n",
      "page 1920 ready\n",
      "page 1921 ready\n",
      "page 1922 ready\n",
      "page 1923 ready\n",
      "page 1924 ready\n",
      "page 1925 ready\n",
      "page 1926 ready\n",
      "page 1927 ready\n",
      "page 1928 ready\n",
      "page 1929 ready\n",
      "page 1930 ready\n",
      "page 1931 ready\n",
      "page 1932 ready\n",
      "page 1933 ready\n",
      "page 1934 ready\n",
      "page 1935 ready\n",
      "page 1936 ready\n",
      "page 1937 ready\n",
      "page 1938 ready\n",
      "page 1939 ready\n",
      "page 1940 ready\n",
      "page 1941 ready\n",
      "page 1942 ready\n",
      "page 1943 ready\n",
      "page 1944 ready\n",
      "page 1945 ready\n",
      "page 1946 ready\n",
      "page 1947 ready\n",
      "page 1948 ready\n",
      "page 1949 ready\n",
      "page 1950 ready\n",
      "page 1951 ready\n",
      "page 1952 ready\n",
      "page 1953 ready\n",
      "page 1954 ready\n",
      "page 1955 ready\n",
      "page 1956 ready\n",
      "page 1957 ready\n",
      "page 1958 ready\n",
      "page 1959 ready\n",
      "page 1960 ready\n"
     ]
    }
   ],
   "source": [
    "comments = pd.DataFrame(columns = ['Date','user_id','comments']) \n",
<<<<<<< HEAD
    "for j in range(1860,1961):\n",
=======
    "for j in range(1861,1961):\n",
>>>>>>> ec7aaefe08929ad716fced7b33e3dc2656c1a4be
    "    p = driver.get('https://forums.edmunds.com/discussion/4011/general/x/chronic-car-buyers-anonymous/p' + str(j))\n",
    "    print(\"page \" + str(j) + \" ready\")\n",
    "\n",
    "\n",
    "    ids = driver.find_elements_by_xpath(\"//*[contains(@id,'Comment_')]\")\n",
    "    comment_ids = []\n",
    "    for i in ids:\n",
    "        comment_ids.append(i.get_attribute('id'))\n",
<<<<<<< HEAD
    "        \n",
    "        \n",
    "    for x in comment_ids:\n",
    "        try:\n",
    "            element = driver.find_elements_by_xpath('//*[@id=\"' + x +'\"]/div/div[3]/div/div[1]/blockquote')[0]\n",
    "            driver.execute_script(\"\"\"\n",
    "                var element = arguments[0];\n",
    "                element.parentNode.removeChild(element);\n",
    "                \"\"\", element)\n",
    "        except:\n",
    "            pass\n",
    "        \n",
=======
    "\n",
>>>>>>> ec7aaefe08929ad716fced7b33e3dc2656c1a4be
    "    for x in comment_ids:\n",
    "        #Extract dates from for each user on a page\n",
    "        user_date = driver.find_elements_by_xpath('//*[@id=\"' + x +'\"]/div/div[2]/div[2]/span[1]/a/time')[0]\n",
    "        date = user_date.get_attribute('title')\n",
    "\n",
    "        #Extract user ids from each user on a page\n",
    "        userid_element = driver.find_elements_by_xpath('//*[@id=\"' + x +'\"]/div/div[2]/div[1]/span[1]/a[2]')[0]\n",
    "        userid = userid_element.text\n",
    "\n",
    "        #Extract Message for each user on a page\n",
    "        user_message = driver.find_elements_by_xpath('//*[@id=\"' + x +'\"]/div/div[3]/div/div[1]')[0]\n",
    "        comment = user_message.text\n",
    "\n",
    "        #Adding date, userid and comment for each user in a dataframe    \n",
    "        comments.loc[len(comments)] = [date,userid,comment]"
   ]
  },
  {
   "cell_type": "code",
<<<<<<< HEAD
   "execution_count": 21,
   "metadata": {},
=======
   "execution_count": 28,
   "metadata": {
    "colab": {
     "base_uri": "https://localhost:8080/",
     "height": 419
    },
    "colab_type": "code",
    "id": "fmsWeIO3UNlv",
    "outputId": "3478e6ed-4370-4d36-b28e-8ce78431e00c"
   },
>>>>>>> ec7aaefe08929ad716fced7b33e3dc2656c1a4be
   "outputs": [
    {
     "data": {
      "text/html": [
       "<div>\n",
       "<style scoped>\n",
       "    .dataframe tbody tr th:only-of-type {\n",
       "        vertical-align: middle;\n",
       "    }\n",
       "\n",
       "    .dataframe tbody tr th {\n",
       "        vertical-align: top;\n",
       "    }\n",
       "\n",
       "    .dataframe thead th {\n",
       "        text-align: right;\n",
       "    }\n",
       "</style>\n",
       "<table border=\"1\" class=\"dataframe\">\n",
       "  <thead>\n",
       "    <tr style=\"text-align: right;\">\n",
       "      <th></th>\n",
       "      <th>Date</th>\n",
       "      <th>user_id</th>\n",
       "      <th>comments</th>\n",
       "    </tr>\n",
       "  </thead>\n",
       "  <tbody>\n",
       "    <tr>\n",
<<<<<<< HEAD
       "      <td>0</td>\n",
       "      <td>June 10, 2019 11:56PM</td>\n",
       "      <td>sda</td>\n",
       "      <td>Did he buy it at an Audi dealer? Are they tell...</td>\n",
       "    </tr>\n",
       "    <tr>\n",
       "      <td>1</td>\n",
       "      <td>June 11, 2019 12:06AM</td>\n",
       "      <td>henryn</td>\n",
       "      <td>I'm surprised no one else has addressed this. ...</td>\n",
       "    </tr>\n",
       "    <tr>\n",
       "      <td>2</td>\n",
       "      <td>June 11, 2019 12:46AM</td>\n",
       "      <td>roadburner</td>\n",
       "      <td>I loved my 1975.</td>\n",
       "    </tr>\n",
       "    <tr>\n",
       "      <td>3</td>\n",
       "      <td>June 11, 2019 12:55AM</td>\n",
       "      <td>28firefighter</td>\n",
       "      <td>Not really looking to argue with you - he is a...</td>\n",
       "    </tr>\n",
       "    <tr>\n",
       "      <td>4</td>\n",
       "      <td>June 11, 2019 1:20AM</td>\n",
       "      <td>qbrozen</td>\n",
       "      <td>I agree with what you guys are saying, but, at...</td>\n",
       "    </tr>\n",
       "    <tr>\n",
       "      <td>...</td>\n",
=======
       "      <th>0</th>\n",
       "      <td>June 12, 2019 2:41PM</td>\n",
       "      <td>marcogallo1986</td>\n",
       "      <td>Do you GC not bad because back in November aw...</td>\n",
       "    </tr>\n",
       "    <tr>\n",
       "      <th>1</th>\n",
       "      <td>June 12, 2019 3:00PM</td>\n",
       "      <td>suydam</td>\n",
       "      <td>But the Tacoma would not help with your gas co...</td>\n",
       "    </tr>\n",
       "    <tr>\n",
       "      <th>2</th>\n",
       "      <td>June 12, 2019 3:03PM</td>\n",
       "      <td>Michaell</td>\n",
       "      <td>I'm about ready to cross the 16,000 mile thres...</td>\n",
       "    </tr>\n",
       "    <tr>\n",
       "      <th>3</th>\n",
       "      <td>June 12, 2019 3:05PM</td>\n",
       "      <td>28firefighter</td>\n",
       "      <td>@nyccarguy From my perspective, the miles you ...</td>\n",
       "    </tr>\n",
       "    <tr>\n",
       "      <th>4</th>\n",
       "      <td>June 12, 2019 3:09PM</td>\n",
       "      <td>tjc78</td>\n",
       "      <td>I wouldn't mind a Q sedan at all. I know peopl...</td>\n",
       "    </tr>\n",
       "    <tr>\n",
       "      <th>...</th>\n",
>>>>>>> ec7aaefe08929ad716fced7b33e3dc2656c1a4be
       "      <td>...</td>\n",
       "      <td>...</td>\n",
       "      <td>...</td>\n",
       "    </tr>\n",
       "    <tr>\n",
<<<<<<< HEAD
       "      <td>5045</td>\n",
       "      <td>October 27, 2019 10:47PM</td>\n",
       "      <td>stickguy</td>\n",
       "      <td>from my poking around it really was a very str...</td>\n",
       "    </tr>\n",
       "    <tr>\n",
       "      <td>5046</td>\n",
       "      <td>October 27, 2019 10:53PM</td>\n",
       "      <td>nyccarguy</td>\n",
       "      <td>Yes. She currently drives a 2016 V6 Porsche Ca...</td>\n",
       "    </tr>\n",
       "    <tr>\n",
       "      <td>5047</td>\n",
       "      <td>October 27, 2019 10:54PM</td>\n",
       "      <td>nyccarguy</td>\n",
       "      <td>She liked the way the NX drove, but thought it...</td>\n",
       "    </tr>\n",
       "    <tr>\n",
       "      <td>5048</td>\n",
=======
       "      <th>4995</th>\n",
       "      <td>October 27, 2019 10:47PM</td>\n",
       "      <td>stickguy</td>\n",
       "      <td>28firefighter said:\\nshow previous quotes\\n\\n\\...</td>\n",
       "    </tr>\n",
       "    <tr>\n",
       "      <th>4996</th>\n",
       "      <td>October 27, 2019 10:53PM</td>\n",
       "      <td>nyccarguy</td>\n",
       "      <td>carnaught said:\\nshow previous quotes\\nHas you...</td>\n",
       "    </tr>\n",
       "    <tr>\n",
       "      <th>4997</th>\n",
       "      <td>October 27, 2019 10:54PM</td>\n",
       "      <td>nyccarguy</td>\n",
       "      <td>stickguy said:\\nif the NX was big enough, how ...</td>\n",
       "    </tr>\n",
       "    <tr>\n",
       "      <th>4998</th>\n",
>>>>>>> ec7aaefe08929ad716fced7b33e3dc2656c1a4be
       "      <td>October 27, 2019 11:13PM</td>\n",
       "      <td>stickguy</td>\n",
       "      <td>using my quick and dirty Rodo research, XT5 @4...</td>\n",
       "    </tr>\n",
       "    <tr>\n",
<<<<<<< HEAD
       "      <td>5049</td>\n",
=======
       "      <th>4999</th>\n",
>>>>>>> ec7aaefe08929ad716fced7b33e3dc2656c1a4be
       "      <td>October 27, 2019 11:22PM</td>\n",
       "      <td>laurasdada</td>\n",
       "      <td>I have no issues with the XF start/stop. Disab...</td>\n",
       "    </tr>\n",
       "  </tbody>\n",
       "</table>\n",
<<<<<<< HEAD
       "<p>5050 rows × 3 columns</p>\n",
       "</div>"
      ],
      "text/plain": [
       "                          Date        user_id  \\\n",
       "0        June 10, 2019 11:56PM            sda   \n",
       "1        June 11, 2019 12:06AM         henryn   \n",
       "2        June 11, 2019 12:46AM     roadburner   \n",
       "3        June 11, 2019 12:55AM  28firefighter   \n",
       "4         June 11, 2019 1:20AM        qbrozen   \n",
       "...                        ...            ...   \n",
       "5045  October 27, 2019 10:47PM       stickguy   \n",
       "5046  October 27, 2019 10:53PM      nyccarguy   \n",
       "5047  October 27, 2019 10:54PM      nyccarguy   \n",
       "5048  October 27, 2019 11:13PM       stickguy   \n",
       "5049  October 27, 2019 11:22PM     laurasdada   \n",
       "\n",
       "                                               comments  \n",
       "0     Did he buy it at an Audi dealer? Are they tell...  \n",
       "1     I'm surprised no one else has addressed this. ...  \n",
       "2                                      I loved my 1975.  \n",
       "3     Not really looking to argue with you - he is a...  \n",
       "4     I agree with what you guys are saying, but, at...  \n",
       "...                                                 ...  \n",
       "5045  from my poking around it really was a very str...  \n",
       "5046  Yes. She currently drives a 2016 V6 Porsche Ca...  \n",
       "5047  She liked the way the NX drove, but thought it...  \n",
       "5048  using my quick and dirty Rodo research, XT5 @4...  \n",
       "5049  I have no issues with the XF start/stop. Disab...  \n",
       "\n",
       "[5050 rows x 3 columns]"
      ]
     },
     "execution_count": 21,
     "metadata": {},
=======
       "<p>5000 rows × 3 columns</p>\n",
       "</div>"
      ],
      "text/plain": [
       "                          Date  ...                                           comments\n",
       "0         June 12, 2019 2:41PM  ...   Do you GC not bad because back in November aw...\n",
       "1         June 12, 2019 3:00PM  ...  But the Tacoma would not help with your gas co...\n",
       "2         June 12, 2019 3:03PM  ...  I'm about ready to cross the 16,000 mile thres...\n",
       "3         June 12, 2019 3:05PM  ...  @nyccarguy From my perspective, the miles you ...\n",
       "4         June 12, 2019 3:09PM  ...  I wouldn't mind a Q sedan at all. I know peopl...\n",
       "...                        ...  ...                                                ...\n",
       "4995  October 27, 2019 10:47PM  ...  28firefighter said:\\nshow previous quotes\\n\\n\\...\n",
       "4996  October 27, 2019 10:53PM  ...  carnaught said:\\nshow previous quotes\\nHas you...\n",
       "4997  October 27, 2019 10:54PM  ...  stickguy said:\\nif the NX was big enough, how ...\n",
       "4998  October 27, 2019 11:13PM  ...  using my quick and dirty Rodo research, XT5 @4...\n",
       "4999  October 27, 2019 11:22PM  ...  I have no issues with the XF start/stop. Disab...\n",
       "\n",
       "[5000 rows x 3 columns]"
      ]
     },
     "execution_count": 28,
     "metadata": {
      "tags": []
     },
>>>>>>> ec7aaefe08929ad716fced7b33e3dc2656c1a4be
     "output_type": "execute_result"
    }
   ],
   "source": [
    "comments"
   ]
  },
  {
   "cell_type": "code",
   "execution_count": 30,
   "metadata": {
    "colab": {
     "base_uri": "https://localhost:8080/",
     "height": 34
    },
    "colab_type": "code",
    "id": "9AN-mDy85wCA",
    "outputId": "c7239fba-7188-4f64-a80e-8c0e10ec5ccf"
   },
   "outputs": [
    {
     "name": "stdout",
     "output_type": "stream",
     "text": [
      "Drive already mounted at /content/gdrive; to attempt to forcibly remount, call drive.mount(\"/content/gdrive\", force_remount=True).\n"
     ]
    }
   ],
   "source": [
    "from google.colab import drive\n",
    "drive.mount('/content/gdrive')"
   ]
  },
  {
   "cell_type": "code",
<<<<<<< HEAD
   "execution_count": 22,
=======
   "execution_count": 0,
>>>>>>> ec7aaefe08929ad716fced7b33e3dc2656c1a4be
   "metadata": {
    "colab": {},
    "colab_type": "code",
    "id": "BdN0hNWDNX50"
   },
   "outputs": [],
   "source": [
<<<<<<< HEAD
    "comments.to_csv(\"results_recent_wo_BQ.csv\", sep=\"\\t\")"
=======
    "comments.to_csv(\"results_recent.csv\", sep=\"\\t\")"
>>>>>>> ec7aaefe08929ad716fced7b33e3dc2656c1a4be
   ]
  },
  {
   "cell_type": "code",
<<<<<<< HEAD
   "execution_count": null,
=======
   "execution_count": 0,
>>>>>>> ec7aaefe08929ad716fced7b33e3dc2656c1a4be
   "metadata": {
    "colab": {},
    "colab_type": "code",
    "id": "wIKj3VzgA0yH"
   },
   "outputs": [],
   "source": []
  }
 ],
 "metadata": {
  "accelerator": "GPU",
  "colab": {
   "collapsed_sections": [],
   "include_colab_link": true,
   "name": "Scraper.ipynb",
   "provenance": []
  },
  "kernelspec": {
   "display_name": "Python 3",
   "language": "python",
   "name": "python3"
  },
  "language_info": {
   "codemirror_mode": {
    "name": "ipython",
    "version": 3
   },
   "file_extension": ".py",
   "mimetype": "text/x-python",
   "name": "python",
   "nbconvert_exporter": "python",
   "pygments_lexer": "ipython3",
<<<<<<< HEAD
   "version": "3.7.4"
  }
 },
 "nbformat": 4,
 "nbformat_minor": 4
=======
   "version": "3.7.3"
  }
 },
 "nbformat": 4,
 "nbformat_minor": 1
>>>>>>> ec7aaefe08929ad716fced7b33e3dc2656c1a4be
}
